{
 "cells": [
  {
   "attachments": {},
   "cell_type": "markdown",
   "metadata": {},
   "source": [
    "### 1. Install dependencies"
   ]
  },
  {
   "cell_type": "code",
   "execution_count": 126,
   "metadata": {},
   "outputs": [],
   "source": [
    "import os\n",
    "from dotenv import load_dotenv\n",
    "import pandas as pd\n",
    "from selenium import webdriver\n",
    "from selenium.webdriver.chrome.service import Service\n",
    "from webdriver_manager.chrome import ChromeDriverManager\n",
    "from selenium.webdriver.common.by import By\n"
   ]
  },
  {
   "attachments": {},
   "cell_type": "markdown",
   "metadata": {},
   "source": [
    "### 2. FX scraper"
   ]
  },
  {
   "cell_type": "code",
   "execution_count": 129,
   "metadata": {},
   "outputs": [],
   "source": [
    "url = \"https://www.dbs.com/in/treasures/rates-online/foreign-currency-foreign-exchange.page\"\n",
    "\n",
    "driver = webdriver.Chrome(service=Service(ChromeDriverManager().install()))\n",
    "driver.get(url)"
   ]
  },
  {
   "cell_type": "code",
   "execution_count": 132,
   "metadata": {},
   "outputs": [],
   "source": [
    "date_detail = driver.find_element(By.ID, \"mainCurrency\").text\n",
    "elements = date_detail.split(' ')\n",
    "\n",
    "date = elements[3]\n",
    "time = elements[-1]"
   ]
  },
  {
   "cell_type": "code",
   "execution_count": 3,
   "metadata": {},
   "outputs": [
    {
     "name": "stdout",
     "output_type": "stream",
     "text": [
      "['Currency', 'Selling TT', 'Selling Cash', 'Buying TT', 'Buying Cash']\n"
     ]
    }
   ],
   "source": [
    "# Header Names\n",
    "header = driver.find_elements(By.XPATH, \"//table[@class='sc-dxgOiQ dzHkKC tbl-primary mBot-16']/thead/tr/th\")\n",
    "\n",
    "col_names = list()\n",
    "\n",
    "for head in header:\n",
    "    col_names.append(head.text)\n",
    "\n",
    "print(col_names)\n"
   ]
  },
  {
   "cell_type": "code",
   "execution_count": 4,
   "metadata": {},
   "outputs": [],
   "source": [
    "# Locators\n",
    "col = driver.find_elements(By.XPATH, \"//table[@class='sc-dxgOiQ dzHkKC tbl-primary mBot-16']/tbody/tr\")\n",
    "row = driver.find_elements(By.XPATH, \"//table[@class='sc-dxgOiQ dzHkKC tbl-primary mBot-16']/tbody/tr[1]/td\")\n",
    "\n",
    "num_row = len(row) #5\n",
    "num_col = len(col) #10\n",
    "\n",
    "results = []\n",
    "\n",
    "\n",
    "for i in range (1, num_col + 1):\n",
    "    result = []\n",
    "    for j in range (1, num_row + 1):\n",
    "        d = driver.find_element(By.XPATH, \"//table[@class='sc-dxgOiQ dzHkKC tbl-primary mBot-16']/tbody/tr[\"+str(i)+\"]/td[\"+str(j)+\"]\").text\n",
    "        result.append(d)\n",
    "    results.append(result)"
   ]
  },
  {
   "cell_type": "code",
   "execution_count": 6,
   "metadata": {},
   "outputs": [
    {
     "name": "stdout",
     "output_type": "stream",
     "text": [
      "                      Currency Selling TT Selling Cash Buying TT Buying Cash  \\\n",
      "0                    US Dollar    81.2468      81.2468   78.0607     78.0607   \n",
      "1             Singapore Dollar    59.4800      59.4800   56.8625     56.8625   \n",
      "2            Australian Dollar    57.9094      57.9094   55.3610     55.3610   \n",
      "3                  Swiss Franc    86.5179      86.5179   82.7106     82.7106   \n",
      "4                         Euro    84.0371      84.0371   80.3389     80.3389   \n",
      "5                British Pound    99.3098      99.3098   94.9394     94.9394   \n",
      "6              Canadian Dollar    63.8483      63.8483   61.0385     61.0385   \n",
      "7             Hong Kong Dollar    10.3947      10.3947    9.9373      9.9373   \n",
      "8                 Japanese Yen     0.6111       0.6111    0.5842      0.5842   \n",
      "9  United Arab Emirates Dirham    22.1744      22.1744   21.1986     21.1986   \n",
      "\n",
      "         Date     Time  \n",
      "0  12/08/2022  11:45AM  \n",
      "1  12/08/2022  11:45AM  \n",
      "2  12/08/2022  11:45AM  \n",
      "3  12/08/2022  11:45AM  \n",
      "4  12/08/2022  11:45AM  \n",
      "5  12/08/2022  11:45AM  \n",
      "6  12/08/2022  11:45AM  \n",
      "7  12/08/2022  11:45AM  \n",
      "8  12/08/2022  11:45AM  \n",
      "9  12/08/2022  11:45AM  \n"
     ]
    }
   ],
   "source": [
    "df = pd.DataFrame(data=results, columns=col_names)\n",
    "\n",
    "df[\"Date\"] = date\n",
    "df[\"Time\"] = time\n",
    "\n",
    "print(df)"
   ]
  },
  {
   "attachments": {},
   "cell_type": "markdown",
   "metadata": {},
   "source": [
    "# 3. PDF File"
   ]
  },
  {
   "cell_type": "code",
   "execution_count": 37,
   "metadata": {},
   "outputs": [],
   "source": [
    "pdf = \"/home/oem/Documents/coding/personal/Reits-Analytics/data/Ascendas-Reit-Annual-Report-2021.pdf\"\n",
    "\n",
    "import tabula\n",
    "import pandas as pd\n",
    "\n",
    "tables = tabula.read_pdf(pdf, pages=[72])\n",
    "df = tables[0]\n",
    "df = df.rename(columns={\"Unnamed: 0\": \"num\", \n",
    "                \"Unnamed: 1\": \"property\", \n",
    "                \"Business & Science Park Properties\": \"development_cost\",\t\n",
    "                \"Unnamed: 2\": \"valuations_(SGD:Mil)\",\n",
    "                \"Unnamed: 3\": \"gfa_(Sqm)\",\n",
    "                \"Unnamed: 4\": \"nla_(Sqm)\",\n",
    "                \"Unnamed: 5\": \"address\",\n",
    "                \"Unnamed: 6\": \"gross_revenue_(SGD:Mil)\",\n",
    "                \"Unnamed: 7\": \"occupancy_rate\"})\n",
    "# remove first rows\n",
    "df = df.iloc[4:]\n",
    "# split out completion date parsed incorrectly\n",
    "def split_completion_date(text):\n",
    "    if isinstance(text, str):\n",
    "        x = text[:9]\n",
    "        return x\n",
    "\n",
    "df[\"completion_date\"] = df[\"development_cost\"].apply(lambda x: split_completion_date(x))\n",
    "# split out development cost parsed incorrectly\n",
    "def split_development_cost(text):\n",
    "    if isinstance(text, str) and len(text) > 11:\n",
    "        amt = text[10:]\n",
    "        return amt\n",
    "\n",
    "df[\"development_cost\"] = df[\"development_cost\"].apply(lambda x: split_development_cost(x))\n",
    "df = df.dropna(how=\"any\", subset=[\"development_cost\", \"completion_date\"])\n",
    "\n",
    "charlist = [\"#\", \"*\", \"^\"]\n",
    "for char in charlist:\n",
    "    df[\"property\"] = df[\"property\"].str.replace(char, \"\", regex=True)\n"
   ]
  },
  {
   "attachments": {},
   "cell_type": "markdown",
   "metadata": {},
   "source": [
    "# 4. Geographical API"
   ]
  },
  {
   "cell_type": "code",
   "execution_count": 38,
   "metadata": {},
   "outputs": [],
   "source": [
    "from dotenv import load_dotenv \n",
    "import os\n",
    "import numpy as np\n",
    "import requests\n",
    "\n",
    "query = \"dakota breeze\"\n",
    "\n",
    "class google_api:\n",
    "    def __init__(self):\n",
    "        load_dotenv()\n",
    "        self.api_key = os.getenv(\"GOOGLE_KEY\")\n",
    "\n",
    "    def return_lat_long(self, query, country):\n",
    "        query = self.custom_query(query, country)\n",
    "        path = f\"https://maps.googleapis.com/maps/api/geocode/json?address={query}?,+CA&key={self.api_key}\"\n",
    "        response = requests.get(path)\n",
    "        jsonResponse = response.json()\n",
    "        if jsonResponse[\"status\"]==\"OK\":\n",
    "            lat = jsonResponse[\"results\"][0][\"geometry\"][\"location\"][\"lat\"]\n",
    "            long = jsonResponse[\"results\"][0][\"geometry\"][\"location\"][\"lng\"]\n",
    "            return lat, long\n",
    "        return None\n",
    "\n",
    "    def custom_query(self, query, country):\n",
    "        if query == \"1, 3 & 5 Changi Business Park Crescent\":\n",
    "            query = \"3 Changi Business Park Crescent\"\n",
    "        query = query+f\", {country}\"\n",
    "        query = query.replace(\" \", \"%20\")\n",
    "\n",
    "        return query"
   ]
  },
  {
   "cell_type": "code",
   "execution_count": 39,
   "metadata": {},
   "outputs": [],
   "source": [
    "df[\"address_cord\"] = df[\"address\"].apply(lambda x: google_api().return_lat_long(x, \"Singapore\"))\n",
    "df[\"property_cord\"] = df[\"property\"].apply(lambda x: google_api().return_lat_long(x, \"Singapore\"))\n",
    "\n",
    "df[\"lat_lng\"] = np.where(df[\"address_cord\"].isna(),df[\"property_cord\"],df[\"address_cord\"])\n",
    "\n",
    "df[\"lattitude\"] = df[\"lat_lng\"].apply(lambda x: x[0])\n",
    "df[\"longitude\"] = df[\"lat_lng\"].apply(lambda x: x[1])\n",
    "\n",
    "df.drop(columns=[\"address_cord\", \"property_cord\", \"lat_lng\"], inplace=True)\n"
   ]
  },
  {
   "cell_type": "code",
   "execution_count": 40,
   "metadata": {},
   "outputs": [],
   "source": [
    "floattypes = [\"development_cost\", \"valuations_(SGD:Mil)\", \"gross_revenue_(SGD:Mil)\"]\n",
    "\n",
    "def to_numeric(number):\n",
    "    try:\n",
    "        return float(number)\n",
    "    except:\n",
    "        return 0\n",
    "\n",
    "for each in floattypes:\n",
    "    df[each] = df[each].apply(lambda x: to_numeric(x))"
   ]
  },
  {
   "cell_type": "code",
   "execution_count": 42,
   "metadata": {},
   "outputs": [
    {
     "name": "stdout",
     "output_type": "stream",
     "text": [
      "<class 'pandas.core.frame.DataFrame'>\n",
      "Int64Index: 28 entries, 5 to 44\n",
      "Data columns (total 12 columns):\n",
      " #   Column                   Non-Null Count  Dtype  \n",
      "---  ------                   --------------  -----  \n",
      " 0   num                      28 non-null     float64\n",
      " 1   property                 28 non-null     object \n",
      " 2   development_cost         28 non-null     float64\n",
      " 3   valuations_(SGD:Mil)     28 non-null     float64\n",
      " 4   gfa_(Sqm)                28 non-null     object \n",
      " 5   nla_(Sqm)                28 non-null     object \n",
      " 6   address                  28 non-null     object \n",
      " 7   gross_revenue_(SGD:Mil)  28 non-null     float64\n",
      " 8   occupancy_rate           28 non-null     object \n",
      " 9   completion_date          28 non-null     object \n",
      " 10  lattitude                28 non-null     float64\n",
      " 11  longitude                28 non-null     float64\n",
      "dtypes: float64(6), object(6)\n",
      "memory usage: 2.8+ KB\n"
     ]
    }
   ],
   "source": [
    "df.info()"
   ]
  },
  {
   "attachments": {},
   "cell_type": "markdown",
   "metadata": {},
   "source": [
    "# 5. Vizualization"
   ]
  },
  {
   "cell_type": "code",
   "execution_count": 59,
   "metadata": {},
   "outputs": [
    {
     "data": {
      "application/vnd.plotly.v1+json": {
       "config": {
        "plotlyServerURL": "https://plot.ly"
       },
       "data": [
        {
         "hovertemplate": "property=Neuros & Immunos<br>gross_revenue_(SGD:Mil)=%{marker.size}<br>lattitude=%{lat}<br>longitude=%{lon}<extra></extra>",
         "lat": [
          1.3020901
         ],
         "legendgroup": "Neuros & Immunos",
         "lon": [
          103.7927811
         ],
         "marker": {
          "color": "#636efa",
          "size": [
           21
          ],
          "sizemode": "area",
          "sizeref": 0.0815
         },
         "mode": "markers",
         "name": "Neuros & Immunos",
         "showlegend": true,
         "subplot": "mapbox",
         "type": "scattermapbox"
        },
        {
         "hovertemplate": "property=Nexus @one-north<br>gross_revenue_(SGD:Mil)=%{marker.size}<br>lattitude=%{lat}<br>longitude=%{lon}<extra></extra>",
         "lat": [
          1.2988017
         ],
         "legendgroup": "Nexus @one-north",
         "lon": [
          103.7899878
         ],
         "marker": {
          "color": "#EF553B",
          "size": [
           15
          ],
          "sizemode": "area",
          "sizeref": 0.0815
         },
         "mode": "markers",
         "name": "Nexus @one-north",
         "showlegend": true,
         "subplot": "mapbox",
         "type": "scattermapbox"
        },
        {
         "hovertemplate": "property=Nucleos<br>gross_revenue_(SGD:Mil)=%{marker.size}<br>lattitude=%{lat}<br>longitude=%{lon}<extra></extra>",
         "lat": [
          1.301487
         ],
         "legendgroup": "Nucleos",
         "lon": [
          103.7921404
         ],
         "marker": {
          "color": "#00cc96",
          "size": [
           30.6
          ],
          "sizemode": "area",
          "sizeref": 0.0815
         },
         "mode": "markers",
         "name": "Nucleos",
         "showlegend": true,
         "subplot": "mapbox",
         "type": "scattermapbox"
        },
        {
         "hovertemplate": "property=Galaxis<br>gross_revenue_(SGD:Mil)=%{marker.size}<br>lattitude=%{lat}<br>longitude=%{lon}<extra></extra>",
         "lat": [
          1.2998645
         ],
         "legendgroup": "Galaxis",
         "lon": [
          103.7883994
         ],
         "marker": {
          "color": "#ab63fa",
          "size": [
           25.7
          ],
          "sizemode": "area",
          "sizeref": 0.0815
         },
         "mode": "markers",
         "name": "Galaxis",
         "showlegend": true,
         "subplot": "mapbox",
         "type": "scattermapbox"
        },
        {
         "hovertemplate": "property=Grab Headquarters<br>gross_revenue_(SGD:Mil)=%{marker.size}<br>lattitude=%{lat}<br>longitude=%{lon}<extra></extra>",
         "lat": [
          1.2918178
         ],
         "legendgroup": "Grab Headquarters",
         "lon": [
          103.7930462
         ],
         "marker": {
          "color": "#FFA15A",
          "size": [
           4.6
          ],
          "sizemode": "area",
          "sizeref": 0.0815
         },
         "mode": "markers",
         "name": "Grab Headquarters",
         "showlegend": true,
         "subplot": "mapbox",
         "type": "scattermapbox"
        },
        {
         "hovertemplate": "property=Techquest<br>gross_revenue_(SGD:Mil)=%{marker.size}<br>lattitude=%{lat}<br>longitude=%{lon}<extra></extra>",
         "lat": [
          1.3255407
         ],
         "legendgroup": "Techquest",
         "lon": [
          103.749825
         ],
         "marker": {
          "color": "#19d3f3",
          "size": [
           2.8
          ],
          "sizemode": "area",
          "sizeref": 0.0815
         },
         "mode": "markers",
         "name": "Techquest",
         "showlegend": true,
         "subplot": "mapbox",
         "type": "scattermapbox"
        },
        {
         "hovertemplate": "property=iQuest@IBP<br>gross_revenue_(SGD:Mil)=%{marker.size}<br>lattitude=%{lat}<br>longitude=%{lon}<extra></extra>",
         "lat": [
          1.3258126
         ],
         "legendgroup": "iQuest@IBP",
         "lon": [
          103.7470642
         ],
         "marker": {
          "color": "#FF6692",
          "size": [
           0
          ],
          "sizemode": "area",
          "sizeref": 0.0815
         },
         "mode": "markers",
         "name": "iQuest@IBP",
         "showlegend": true,
         "subplot": "mapbox",
         "type": "scattermapbox"
        },
        {
         "hovertemplate": "property=Acer Building<br>gross_revenue_(SGD:Mil)=%{marker.size}<br>lattitude=%{lat}<br>longitude=%{lon}<extra></extra>",
         "lat": [
          1.327022
         ],
         "legendgroup": "Acer Building",
         "lon": [
          103.7460233
         ],
         "marker": {
          "color": "#B6E880",
          "size": [
           3.2
          ],
          "sizemode": "area",
          "sizeref": 0.0815
         },
         "mode": "markers",
         "name": "Acer Building",
         "showlegend": true,
         "subplot": "mapbox",
         "type": "scattermapbox"
        },
        {
         "hovertemplate": "property=31 International Business Park<br>gross_revenue_(SGD:Mil)=%{marker.size}<br>lattitude=%{lat}<br>longitude=%{lon}<extra></extra>",
         "lat": [
          1.3287102
         ],
         "legendgroup": "31 International Business Park",
         "lon": [
          103.7461134
         ],
         "marker": {
          "color": "#FF97FF",
          "size": [
           11.2
          ],
          "sizemode": "area",
          "sizeref": 0.0815
         },
         "mode": "markers",
         "name": "31 International Business Park",
         "showlegend": true,
         "subplot": "mapbox",
         "type": "scattermapbox"
        },
        {
         "hovertemplate": "property=Nordic European Centre<br>gross_revenue_(SGD:Mil)=%{marker.size}<br>lattitude=%{lat}<br>longitude=%{lon}<extra></extra>",
         "lat": [
          1.3273051
         ],
         "legendgroup": "Nordic European Centre",
         "lon": [
          103.7485578
         ],
         "marker": {
          "color": "#FECB52",
          "size": [
           8.9
          ],
          "sizemode": "area",
          "sizeref": 0.0815
         },
         "mode": "markers",
         "name": "Nordic European Centre",
         "showlegend": true,
         "subplot": "mapbox",
         "type": "scattermapbox"
        },
        {
         "hovertemplate": "property=17 Changi Business Park Central 1<br>gross_revenue_(SGD:Mil)=%{marker.size}<br>lattitude=%{lat}<br>longitude=%{lon}<extra></extra>",
         "lat": [
          1.3371858
         ],
         "legendgroup": "17 Changi Business Park Central 1",
         "lon": [
          103.9656142
         ],
         "marker": {
          "color": "#636efa",
          "size": [
           5
          ],
          "sizemode": "area",
          "sizeref": 0.0815
         },
         "mode": "markers",
         "name": "17 Changi Business Park Central 1",
         "showlegend": true,
         "subplot": "mapbox",
         "type": "scattermapbox"
        },
        {
         "hovertemplate": "property=1 Changi Business Park Avenue 1<br>gross_revenue_(SGD:Mil)=%{marker.size}<br>lattitude=%{lat}<br>longitude=%{lon}<extra></extra>",
         "lat": [
          1.3366252
         ],
         "legendgroup": "1 Changi Business Park Avenue 1",
         "lon": [
          103.9636648
         ],
         "marker": {
          "color": "#EF553B",
          "size": [
           5.5
          ],
          "sizemode": "area",
          "sizeref": 0.0815
         },
         "mode": "markers",
         "name": "1 Changi Business Park Avenue 1",
         "showlegend": true,
         "subplot": "mapbox",
         "type": "scattermapbox"
        },
        {
         "hovertemplate": "property=Hansapoint<br>gross_revenue_(SGD:Mil)=%{marker.size}<br>lattitude=%{lat}<br>longitude=%{lon}<extra></extra>",
         "lat": [
          1.3357172
         ],
         "legendgroup": "Hansapoint",
         "lon": [
          103.9665208
         ],
         "marker": {
          "color": "#00cc96",
          "size": [
           9
          ],
          "sizemode": "area",
          "sizeref": 0.0815
         },
         "mode": "markers",
         "name": "Hansapoint",
         "showlegend": true,
         "subplot": "mapbox",
         "type": "scattermapbox"
        },
        {
         "hovertemplate": "property=1, 3 & 5 Changi Business Park Crescent<br>gross_revenue_(SGD:Mil)=%{marker.size}<br>lattitude=%{lat}<br>longitude=%{lon}<extra></extra>",
         "lat": [
          1.333806
         ],
         "legendgroup": "1, 3 & 5 Changi Business Park Crescent",
         "lon": [
          103.9661776
         ],
         "marker": {
          "color": "#ab63fa",
          "size": [
           25.5
          ],
          "sizemode": "area",
          "sizeref": 0.0815
         },
         "mode": "markers",
         "name": "1, 3 & 5 Changi Business Park Crescent",
         "showlegend": true,
         "subplot": "mapbox",
         "type": "scattermapbox"
        },
        {
         "hovertemplate": "property=DBS Asia Hub<br>gross_revenue_(SGD:Mil)=%{marker.size}<br>lattitude=%{lat}<br>longitude=%{lon}<extra></extra>",
         "lat": [
          1.3327285
         ],
         "legendgroup": "DBS Asia Hub",
         "lon": [
          103.9646169
         ],
         "marker": {
          "color": "#FFA15A",
          "size": [
           15.5
          ],
          "sizemode": "area",
          "sizeref": 0.0815
         },
         "mode": "markers",
         "name": "DBS Asia Hub",
         "showlegend": true,
         "subplot": "mapbox",
         "type": "scattermapbox"
        },
        {
         "hovertemplate": "property=3 Changi Business Park Vista<br>gross_revenue_(SGD:Mil)=%{marker.size}<br>lattitude=%{lat}<br>longitude=%{lon}<extra></extra>",
         "lat": [
          1.336811
         ],
         "legendgroup": "3 Changi Business Park Vista",
         "lon": [
          103.9671555
         ],
         "marker": {
          "color": "#19d3f3",
          "size": [
           6.4
          ],
          "sizemode": "area",
          "sizeref": 0.0815
         },
         "mode": "markers",
         "name": "3 Changi Business Park Vista",
         "showlegend": true,
         "subplot": "mapbox",
         "type": "scattermapbox"
        },
        {
         "hovertemplate": "property=ONE@Changi City<br>gross_revenue_(SGD:Mil)=%{marker.size}<br>lattitude=%{lat}<br>longitude=%{lon}<extra></extra>",
         "lat": [
          1.3335454
         ],
         "legendgroup": "ONE@Changi City",
         "lon": [
          103.9625317
         ],
         "marker": {
          "color": "#FF6692",
          "size": [
           32.5
          ],
          "sizemode": "area",
          "sizeref": 0.0815
         },
         "mode": "markers",
         "name": "ONE@Changi City",
         "showlegend": true,
         "subplot": "mapbox",
         "type": "scattermapbox"
        },
        {
         "hovertemplate": "property=The Rutherford & Oasis<br>gross_revenue_(SGD:Mil)=%{marker.size}<br>lattitude=%{lat}<br>longitude=%{lon}<extra></extra>",
         "lat": [
          1.2878492
         ],
         "legendgroup": "The Rutherford & Oasis",
         "lon": [
          103.7903839
         ],
         "marker": {
          "color": "#B6E880",
          "size": [
           5.8
          ],
          "sizemode": "area",
          "sizeref": 0.0815
         },
         "mode": "markers",
         "name": "The Rutherford & Oasis",
         "showlegend": true,
         "subplot": "mapbox",
         "type": "scattermapbox"
        },
        {
         "hovertemplate": "property=Cintech I<br>gross_revenue_(SGD:Mil)=%{marker.size}<br>lattitude=%{lat}<br>longitude=%{lon}<extra></extra>",
         "lat": [
          1.2906344
         ],
         "legendgroup": "Cintech I",
         "lon": [
          103.7892973
         ],
         "marker": {
          "color": "#FF97FF",
          "size": [
           4.2
          ],
          "sizemode": "area",
          "sizeref": 0.0815
         },
         "mode": "markers",
         "name": "Cintech I",
         "showlegend": true,
         "subplot": "mapbox",
         "type": "scattermapbox"
        },
        {
         "hovertemplate": "property=Cintech II<br>gross_revenue_(SGD:Mil)=%{marker.size}<br>lattitude=%{lat}<br>longitude=%{lon}<extra></extra>",
         "lat": [
          1.2903005
         ],
         "legendgroup": "Cintech II",
         "lon": [
          103.7901575
         ],
         "marker": {
          "color": "#FECB52",
          "size": [
           4.4
          ],
          "sizemode": "area",
          "sizeref": 0.0815
         },
         "mode": "markers",
         "name": "Cintech II",
         "showlegend": true,
         "subplot": "mapbox",
         "type": "scattermapbox"
        },
        {
         "hovertemplate": "property=Cintech III & IV<br>gross_revenue_(SGD:Mil)=%{marker.size}<br>lattitude=%{lat}<br>longitude=%{lon}<extra></extra>",
         "lat": [
          48.841082
         ],
         "legendgroup": "Cintech III & IV",
         "lon": [
          2.999366
         ],
         "marker": {
          "color": "#636efa",
          "size": [
           8.6
          ],
          "sizemode": "area",
          "sizeref": 0.0815
         },
         "mode": "markers",
         "name": "Cintech III & IV",
         "showlegend": true,
         "subplot": "mapbox",
         "type": "scattermapbox"
        },
        {
         "hovertemplate": "property=12, 14 & 16 Science Park Drive<br>gross_revenue_(SGD:Mil)=%{marker.size}<br>lattitude=%{lat}<br>longitude=%{lon}<extra></extra>",
         "lat": [
          12.0077707
         ],
         "legendgroup": "12, 14 & 16 Science Park Drive",
         "lon": [
          13.9987558
         ],
         "marker": {
          "color": "#EF553B",
          "size": [
           32.6
          ],
          "sizemode": "area",
          "sizeref": 0.0815
         },
         "mode": "markers",
         "name": "12, 14 & 16 Science Park Drive",
         "showlegend": true,
         "subplot": "mapbox",
         "type": "scattermapbox"
        },
        {
         "hovertemplate": "property=The Alpha<br>gross_revenue_(SGD:Mil)=%{marker.size}<br>lattitude=%{lat}<br>longitude=%{lon}<extra></extra>",
         "lat": [
          1.288347
         ],
         "legendgroup": "The Alpha",
         "lon": [
          103.7796998
         ],
         "marker": {
          "color": "#00cc96",
          "size": [
           6.6
          ],
          "sizemode": "area",
          "sizeref": 0.0815
         },
         "mode": "markers",
         "name": "The Alpha",
         "showlegend": true,
         "subplot": "mapbox",
         "type": "scattermapbox"
        },
        {
         "hovertemplate": "property=The Aries, Sparkle & Gemini<br>gross_revenue_(SGD:Mil)=%{marker.size}<br>lattitude=%{lat}<br>longitude=%{lon}<extra></extra>",
         "lat": [
          41.0197612
         ],
         "legendgroup": "The Aries, Sparkle & Gemini",
         "lon": [
          45.0324685
         ],
         "marker": {
          "color": "#ab63fa",
          "size": [
           17.2
          ],
          "sizemode": "area",
          "sizeref": 0.0815
         },
         "mode": "markers",
         "name": "The Aries, Sparkle & Gemini",
         "showlegend": true,
         "subplot": "mapbox",
         "type": "scattermapbox"
        },
        {
         "hovertemplate": "property=The Capricorn<br>gross_revenue_(SGD:Mil)=%{marker.size}<br>lattitude=%{lat}<br>longitude=%{lon}<extra></extra>",
         "lat": [
          1.2896695
         ],
         "legendgroup": "The Capricorn",
         "lon": [
          103.7786133
         ],
         "marker": {
          "color": "#FFA15A",
          "size": [
           8.8
          ],
          "sizemode": "area",
          "sizeref": 0.0815
         },
         "mode": "markers",
         "name": "The Capricorn",
         "showlegend": true,
         "subplot": "mapbox",
         "type": "scattermapbox"
        },
        {
         "hovertemplate": "property=The Galen<br>gross_revenue_(SGD:Mil)=%{marker.size}<br>lattitude=%{lat}<br>longitude=%{lon}<extra></extra>",
         "lat": [
          1.2865678
         ],
         "legendgroup": "The Galen",
         "lon": [
          103.7840457
         ],
         "marker": {
          "color": "#19d3f3",
          "size": [
           13.1
          ],
          "sizemode": "area",
          "sizeref": 0.0815
         },
         "mode": "markers",
         "name": "The Galen",
         "showlegend": true,
         "subplot": "mapbox",
         "type": "scattermapbox"
        },
        {
         "hovertemplate": "property=The Kendall<br>gross_revenue_(SGD:Mil)=%{marker.size}<br>lattitude=%{lat}<br>longitude=%{lon}<extra></extra>",
         "lat": [
          1.2860187
         ],
         "legendgroup": "The Kendall",
         "lon": [
          103.7835494
         ],
         "marker": {
          "color": "#FF6692",
          "size": [
           11.7
          ],
          "sizemode": "area",
          "sizeref": 0.0815
         },
         "mode": "markers",
         "name": "The Kendall",
         "showlegend": true,
         "subplot": "mapbox",
         "type": "scattermapbox"
        },
        {
         "hovertemplate": "property=FM Global Centre<br>gross_revenue_(SGD:Mil)=%{marker.size}<br>lattitude=%{lat}<br>longitude=%{lon}<extra></extra>",
         "lat": [
          1.2860763
         ],
         "legendgroup": "FM Global Centre",
         "lon": [
          103.7805616
         ],
         "marker": {
          "color": "#B6E880",
          "size": [
           5.5
          ],
          "sizemode": "area",
          "sizeref": 0.0815
         },
         "mode": "markers",
         "name": "FM Global Centre",
         "showlegend": true,
         "subplot": "mapbox",
         "type": "scattermapbox"
        }
       ],
       "layout": {
        "autosize": true,
        "height": 600,
        "legend": {
         "itemsizing": "constant",
         "title": {
          "text": "property"
         },
         "tracegroupgap": 0
        },
        "mapbox": {
         "bounds": {
          "east": 1000,
          "north": 0,
          "south": 500,
          "west": 0
         },
         "center": {
          "lat": 4.808891003571428,
          "lon": 94.91989710357144
         },
         "domain": {
          "x": [
           0,
           1
          ],
          "y": [
           0,
           1
          ]
         },
         "style": "open-street-map",
         "zoom": 4
        },
        "margin": {
         "b": 10,
         "l": 10,
         "r": 10,
         "t": 50
        },
        "template": {
         "data": {
          "bar": [
           {
            "error_x": {
             "color": "#2a3f5f"
            },
            "error_y": {
             "color": "#2a3f5f"
            },
            "marker": {
             "line": {
              "color": "#E5ECF6",
              "width": 0.5
             },
             "pattern": {
              "fillmode": "overlay",
              "size": 10,
              "solidity": 0.2
             }
            },
            "type": "bar"
           }
          ],
          "barpolar": [
           {
            "marker": {
             "line": {
              "color": "#E5ECF6",
              "width": 0.5
             },
             "pattern": {
              "fillmode": "overlay",
              "size": 10,
              "solidity": 0.2
             }
            },
            "type": "barpolar"
           }
          ],
          "carpet": [
           {
            "aaxis": {
             "endlinecolor": "#2a3f5f",
             "gridcolor": "white",
             "linecolor": "white",
             "minorgridcolor": "white",
             "startlinecolor": "#2a3f5f"
            },
            "baxis": {
             "endlinecolor": "#2a3f5f",
             "gridcolor": "white",
             "linecolor": "white",
             "minorgridcolor": "white",
             "startlinecolor": "#2a3f5f"
            },
            "type": "carpet"
           }
          ],
          "choropleth": [
           {
            "colorbar": {
             "outlinewidth": 0,
             "ticks": ""
            },
            "type": "choropleth"
           }
          ],
          "contour": [
           {
            "colorbar": {
             "outlinewidth": 0,
             "ticks": ""
            },
            "colorscale": [
             [
              0,
              "#0d0887"
             ],
             [
              0.1111111111111111,
              "#46039f"
             ],
             [
              0.2222222222222222,
              "#7201a8"
             ],
             [
              0.3333333333333333,
              "#9c179e"
             ],
             [
              0.4444444444444444,
              "#bd3786"
             ],
             [
              0.5555555555555556,
              "#d8576b"
             ],
             [
              0.6666666666666666,
              "#ed7953"
             ],
             [
              0.7777777777777778,
              "#fb9f3a"
             ],
             [
              0.8888888888888888,
              "#fdca26"
             ],
             [
              1,
              "#f0f921"
             ]
            ],
            "type": "contour"
           }
          ],
          "contourcarpet": [
           {
            "colorbar": {
             "outlinewidth": 0,
             "ticks": ""
            },
            "type": "contourcarpet"
           }
          ],
          "heatmap": [
           {
            "colorbar": {
             "outlinewidth": 0,
             "ticks": ""
            },
            "colorscale": [
             [
              0,
              "#0d0887"
             ],
             [
              0.1111111111111111,
              "#46039f"
             ],
             [
              0.2222222222222222,
              "#7201a8"
             ],
             [
              0.3333333333333333,
              "#9c179e"
             ],
             [
              0.4444444444444444,
              "#bd3786"
             ],
             [
              0.5555555555555556,
              "#d8576b"
             ],
             [
              0.6666666666666666,
              "#ed7953"
             ],
             [
              0.7777777777777778,
              "#fb9f3a"
             ],
             [
              0.8888888888888888,
              "#fdca26"
             ],
             [
              1,
              "#f0f921"
             ]
            ],
            "type": "heatmap"
           }
          ],
          "heatmapgl": [
           {
            "colorbar": {
             "outlinewidth": 0,
             "ticks": ""
            },
            "colorscale": [
             [
              0,
              "#0d0887"
             ],
             [
              0.1111111111111111,
              "#46039f"
             ],
             [
              0.2222222222222222,
              "#7201a8"
             ],
             [
              0.3333333333333333,
              "#9c179e"
             ],
             [
              0.4444444444444444,
              "#bd3786"
             ],
             [
              0.5555555555555556,
              "#d8576b"
             ],
             [
              0.6666666666666666,
              "#ed7953"
             ],
             [
              0.7777777777777778,
              "#fb9f3a"
             ],
             [
              0.8888888888888888,
              "#fdca26"
             ],
             [
              1,
              "#f0f921"
             ]
            ],
            "type": "heatmapgl"
           }
          ],
          "histogram": [
           {
            "marker": {
             "pattern": {
              "fillmode": "overlay",
              "size": 10,
              "solidity": 0.2
             }
            },
            "type": "histogram"
           }
          ],
          "histogram2d": [
           {
            "colorbar": {
             "outlinewidth": 0,
             "ticks": ""
            },
            "colorscale": [
             [
              0,
              "#0d0887"
             ],
             [
              0.1111111111111111,
              "#46039f"
             ],
             [
              0.2222222222222222,
              "#7201a8"
             ],
             [
              0.3333333333333333,
              "#9c179e"
             ],
             [
              0.4444444444444444,
              "#bd3786"
             ],
             [
              0.5555555555555556,
              "#d8576b"
             ],
             [
              0.6666666666666666,
              "#ed7953"
             ],
             [
              0.7777777777777778,
              "#fb9f3a"
             ],
             [
              0.8888888888888888,
              "#fdca26"
             ],
             [
              1,
              "#f0f921"
             ]
            ],
            "type": "histogram2d"
           }
          ],
          "histogram2dcontour": [
           {
            "colorbar": {
             "outlinewidth": 0,
             "ticks": ""
            },
            "colorscale": [
             [
              0,
              "#0d0887"
             ],
             [
              0.1111111111111111,
              "#46039f"
             ],
             [
              0.2222222222222222,
              "#7201a8"
             ],
             [
              0.3333333333333333,
              "#9c179e"
             ],
             [
              0.4444444444444444,
              "#bd3786"
             ],
             [
              0.5555555555555556,
              "#d8576b"
             ],
             [
              0.6666666666666666,
              "#ed7953"
             ],
             [
              0.7777777777777778,
              "#fb9f3a"
             ],
             [
              0.8888888888888888,
              "#fdca26"
             ],
             [
              1,
              "#f0f921"
             ]
            ],
            "type": "histogram2dcontour"
           }
          ],
          "mesh3d": [
           {
            "colorbar": {
             "outlinewidth": 0,
             "ticks": ""
            },
            "type": "mesh3d"
           }
          ],
          "parcoords": [
           {
            "line": {
             "colorbar": {
              "outlinewidth": 0,
              "ticks": ""
             }
            },
            "type": "parcoords"
           }
          ],
          "pie": [
           {
            "automargin": true,
            "type": "pie"
           }
          ],
          "scatter": [
           {
            "fillpattern": {
             "fillmode": "overlay",
             "size": 10,
             "solidity": 0.2
            },
            "type": "scatter"
           }
          ],
          "scatter3d": [
           {
            "line": {
             "colorbar": {
              "outlinewidth": 0,
              "ticks": ""
             }
            },
            "marker": {
             "colorbar": {
              "outlinewidth": 0,
              "ticks": ""
             }
            },
            "type": "scatter3d"
           }
          ],
          "scattercarpet": [
           {
            "marker": {
             "colorbar": {
              "outlinewidth": 0,
              "ticks": ""
             }
            },
            "type": "scattercarpet"
           }
          ],
          "scattergeo": [
           {
            "marker": {
             "colorbar": {
              "outlinewidth": 0,
              "ticks": ""
             }
            },
            "type": "scattergeo"
           }
          ],
          "scattergl": [
           {
            "marker": {
             "colorbar": {
              "outlinewidth": 0,
              "ticks": ""
             }
            },
            "type": "scattergl"
           }
          ],
          "scattermapbox": [
           {
            "marker": {
             "colorbar": {
              "outlinewidth": 0,
              "ticks": ""
             }
            },
            "type": "scattermapbox"
           }
          ],
          "scatterpolar": [
           {
            "marker": {
             "colorbar": {
              "outlinewidth": 0,
              "ticks": ""
             }
            },
            "type": "scatterpolar"
           }
          ],
          "scatterpolargl": [
           {
            "marker": {
             "colorbar": {
              "outlinewidth": 0,
              "ticks": ""
             }
            },
            "type": "scatterpolargl"
           }
          ],
          "scatterternary": [
           {
            "marker": {
             "colorbar": {
              "outlinewidth": 0,
              "ticks": ""
             }
            },
            "type": "scatterternary"
           }
          ],
          "surface": [
           {
            "colorbar": {
             "outlinewidth": 0,
             "ticks": ""
            },
            "colorscale": [
             [
              0,
              "#0d0887"
             ],
             [
              0.1111111111111111,
              "#46039f"
             ],
             [
              0.2222222222222222,
              "#7201a8"
             ],
             [
              0.3333333333333333,
              "#9c179e"
             ],
             [
              0.4444444444444444,
              "#bd3786"
             ],
             [
              0.5555555555555556,
              "#d8576b"
             ],
             [
              0.6666666666666666,
              "#ed7953"
             ],
             [
              0.7777777777777778,
              "#fb9f3a"
             ],
             [
              0.8888888888888888,
              "#fdca26"
             ],
             [
              1,
              "#f0f921"
             ]
            ],
            "type": "surface"
           }
          ],
          "table": [
           {
            "cells": {
             "fill": {
              "color": "#EBF0F8"
             },
             "line": {
              "color": "white"
             }
            },
            "header": {
             "fill": {
              "color": "#C8D4E3"
             },
             "line": {
              "color": "white"
             }
            },
            "type": "table"
           }
          ]
         },
         "layout": {
          "annotationdefaults": {
           "arrowcolor": "#2a3f5f",
           "arrowhead": 0,
           "arrowwidth": 1
          },
          "autotypenumbers": "strict",
          "coloraxis": {
           "colorbar": {
            "outlinewidth": 0,
            "ticks": ""
           }
          },
          "colorscale": {
           "diverging": [
            [
             0,
             "#8e0152"
            ],
            [
             0.1,
             "#c51b7d"
            ],
            [
             0.2,
             "#de77ae"
            ],
            [
             0.3,
             "#f1b6da"
            ],
            [
             0.4,
             "#fde0ef"
            ],
            [
             0.5,
             "#f7f7f7"
            ],
            [
             0.6,
             "#e6f5d0"
            ],
            [
             0.7,
             "#b8e186"
            ],
            [
             0.8,
             "#7fbc41"
            ],
            [
             0.9,
             "#4d9221"
            ],
            [
             1,
             "#276419"
            ]
           ],
           "sequential": [
            [
             0,
             "#0d0887"
            ],
            [
             0.1111111111111111,
             "#46039f"
            ],
            [
             0.2222222222222222,
             "#7201a8"
            ],
            [
             0.3333333333333333,
             "#9c179e"
            ],
            [
             0.4444444444444444,
             "#bd3786"
            ],
            [
             0.5555555555555556,
             "#d8576b"
            ],
            [
             0.6666666666666666,
             "#ed7953"
            ],
            [
             0.7777777777777778,
             "#fb9f3a"
            ],
            [
             0.8888888888888888,
             "#fdca26"
            ],
            [
             1,
             "#f0f921"
            ]
           ],
           "sequentialminus": [
            [
             0,
             "#0d0887"
            ],
            [
             0.1111111111111111,
             "#46039f"
            ],
            [
             0.2222222222222222,
             "#7201a8"
            ],
            [
             0.3333333333333333,
             "#9c179e"
            ],
            [
             0.4444444444444444,
             "#bd3786"
            ],
            [
             0.5555555555555556,
             "#d8576b"
            ],
            [
             0.6666666666666666,
             "#ed7953"
            ],
            [
             0.7777777777777778,
             "#fb9f3a"
            ],
            [
             0.8888888888888888,
             "#fdca26"
            ],
            [
             1,
             "#f0f921"
            ]
           ]
          },
          "colorway": [
           "#636efa",
           "#EF553B",
           "#00cc96",
           "#ab63fa",
           "#FFA15A",
           "#19d3f3",
           "#FF6692",
           "#B6E880",
           "#FF97FF",
           "#FECB52"
          ],
          "font": {
           "color": "#2a3f5f"
          },
          "geo": {
           "bgcolor": "white",
           "lakecolor": "white",
           "landcolor": "#E5ECF6",
           "showlakes": true,
           "showland": true,
           "subunitcolor": "white"
          },
          "hoverlabel": {
           "align": "left"
          },
          "hovermode": "closest",
          "mapbox": {
           "style": "light"
          },
          "paper_bgcolor": "white",
          "plot_bgcolor": "#E5ECF6",
          "polar": {
           "angularaxis": {
            "gridcolor": "white",
            "linecolor": "white",
            "ticks": ""
           },
           "bgcolor": "#E5ECF6",
           "radialaxis": {
            "gridcolor": "white",
            "linecolor": "white",
            "ticks": ""
           }
          },
          "scene": {
           "xaxis": {
            "backgroundcolor": "#E5ECF6",
            "gridcolor": "white",
            "gridwidth": 2,
            "linecolor": "white",
            "showbackground": true,
            "ticks": "",
            "zerolinecolor": "white"
           },
           "yaxis": {
            "backgroundcolor": "#E5ECF6",
            "gridcolor": "white",
            "gridwidth": 2,
            "linecolor": "white",
            "showbackground": true,
            "ticks": "",
            "zerolinecolor": "white"
           },
           "zaxis": {
            "backgroundcolor": "#E5ECF6",
            "gridcolor": "white",
            "gridwidth": 2,
            "linecolor": "white",
            "showbackground": true,
            "ticks": "",
            "zerolinecolor": "white"
           }
          },
          "shapedefaults": {
           "line": {
            "color": "#2a3f5f"
           }
          },
          "ternary": {
           "aaxis": {
            "gridcolor": "white",
            "linecolor": "white",
            "ticks": ""
           },
           "baxis": {
            "gridcolor": "white",
            "linecolor": "white",
            "ticks": ""
           },
           "bgcolor": "#E5ECF6",
           "caxis": {
            "gridcolor": "white",
            "linecolor": "white",
            "ticks": ""
           }
          },
          "title": {
           "x": 0.05
          },
          "xaxis": {
           "automargin": true,
           "gridcolor": "white",
           "linecolor": "white",
           "ticks": "",
           "title": {
            "standoff": 15
           },
           "zerolinecolor": "white",
           "zerolinewidth": 2
          },
          "yaxis": {
           "automargin": true,
           "gridcolor": "white",
           "linecolor": "white",
           "ticks": "",
           "title": {
            "standoff": 15
           },
           "zerolinecolor": "white",
           "zerolinewidth": 2
          }
         }
        },
        "title": {
         "text": "business park"
        },
        "width": 900
       }
      }
     },
     "metadata": {},
     "output_type": "display_data"
    }
   ],
   "source": [
    "import plotly.express as px\n",
    "fig = px.scatter_mapbox(df, \n",
    "                        title=\"business park\", \n",
    "                        lon=\"longitude\", \n",
    "                        lat=\"lattitude\", \n",
    "                        color=\"property\", \n",
    "                        size=\"gross_revenue_(SGD:Mil)\", \n",
    "                        zoom=4, \n",
    "                        width=900, \n",
    "                        height=600)\n",
    "\n",
    "fig.update_layout(mapbox_style=\"open-street-map\")\n",
    "fig.update_layout(autosize=True, margin={\"r\": 10, \"t\": 50, \"l\": 10, \"b\": 10})\n",
    "fig.update_layout(mapbox_bounds={\"west\": 0, \"east\": 1000, \"south\": 500, \"north\": 0})\n",
    "\n",
    "fig.show()"
   ]
  },
  {
   "cell_type": "code",
   "execution_count": 276,
   "metadata": {},
   "outputs": [
    {
     "data": {
      "text/html": [
       "<div>\n",
       "<style scoped>\n",
       "    .dataframe tbody tr th:only-of-type {\n",
       "        vertical-align: middle;\n",
       "    }\n",
       "\n",
       "    .dataframe tbody tr th {\n",
       "        vertical-align: top;\n",
       "    }\n",
       "\n",
       "    .dataframe thead th {\n",
       "        text-align: right;\n",
       "    }\n",
       "</style>\n",
       "<table border=\"1\" class=\"dataframe\">\n",
       "  <thead>\n",
       "    <tr style=\"text-align: right;\">\n",
       "      <th></th>\n",
       "      <th>num</th>\n",
       "      <th>property</th>\n",
       "      <th>development_cost</th>\n",
       "      <th>valuations_(SGD:Mil)</th>\n",
       "      <th>gfa_(Sqm)</th>\n",
       "      <th>nla_(Sqm)</th>\n",
       "      <th>address</th>\n",
       "      <th>gross_revenue_(SGD:Mil)</th>\n",
       "      <th>occupancy_rate</th>\n",
       "      <th>completion_date</th>\n",
       "      <th>lat_lng</th>\n",
       "    </tr>\n",
       "  </thead>\n",
       "  <tbody>\n",
       "    <tr>\n",
       "      <th>5</th>\n",
       "      <td>1.0</td>\n",
       "      <td>Neuros &amp; Immunos</td>\n",
       "      <td>125.6</td>\n",
       "      <td>143.0</td>\n",
       "      <td>36,931</td>\n",
       "      <td>26,035</td>\n",
       "      <td>8/8A Biomedical Grove</td>\n",
       "      <td>21.0</td>\n",
       "      <td>98.4%</td>\n",
       "      <td>31 Mar 11</td>\n",
       "      <td>(1.3020901, 103.7927811)</td>\n",
       "    </tr>\n",
       "    <tr>\n",
       "      <th>6</th>\n",
       "      <td>2.0</td>\n",
       "      <td>Nexus @one-north</td>\n",
       "      <td>181.3</td>\n",
       "      <td>202.8</td>\n",
       "      <td>25,511</td>\n",
       "      <td>20,669</td>\n",
       "      <td>1 &amp; 3 Fusionopolis Link</td>\n",
       "      <td>15.0</td>\n",
       "      <td>93.4%</td>\n",
       "      <td>04 Sep 13</td>\n",
       "      <td>(1.2988017, 103.7899878)</td>\n",
       "    </tr>\n",
       "    <tr>\n",
       "      <th>7</th>\n",
       "      <td>3.0</td>\n",
       "      <td>Nucleos</td>\n",
       "      <td>289.0</td>\n",
       "      <td>346.1</td>\n",
       "      <td>46,174</td>\n",
       "      <td>37,365</td>\n",
       "      <td>21 Biopolis Road</td>\n",
       "      <td>30.6</td>\n",
       "      <td>98.4%</td>\n",
       "      <td>11 Dec 19</td>\n",
       "      <td>(1.301487, 103.7921404)</td>\n",
       "    </tr>\n",
       "    <tr>\n",
       "      <th>8</th>\n",
       "      <td>4.0</td>\n",
       "      <td>Galaxis</td>\n",
       "      <td>697.5</td>\n",
       "      <td>733.6</td>\n",
       "      <td>68,835</td>\n",
       "      <td>60,709</td>\n",
       "      <td>1 &amp; 3 Fusionopolis Place</td>\n",
       "      <td>25.7</td>\n",
       "      <td>97.0%</td>\n",
       "      <td>30 Jun 21</td>\n",
       "      <td>(1.2998645, 103.7883994)</td>\n",
       "    </tr>\n",
       "    <tr>\n",
       "      <th>9</th>\n",
       "      <td>5.0</td>\n",
       "      <td>Grab Headquarters</td>\n",
       "      <td>184.6</td>\n",
       "      <td>191.5</td>\n",
       "      <td>42,290</td>\n",
       "      <td>42,290</td>\n",
       "      <td>1 &amp; 3 Media Close</td>\n",
       "      <td>4.6</td>\n",
       "      <td>100.0%</td>\n",
       "      <td>30 Jul 21</td>\n",
       "      <td>(1.2918178, 103.7930462)</td>\n",
       "    </tr>\n",
       "    <tr>\n",
       "      <th>12</th>\n",
       "      <td>6.0</td>\n",
       "      <td>Techquest</td>\n",
       "      <td>7.5</td>\n",
       "      <td>24.9</td>\n",
       "      <td>9,079</td>\n",
       "      <td>9,079</td>\n",
       "      <td>7 International Business Park</td>\n",
       "      <td>2.8</td>\n",
       "      <td>100.0%</td>\n",
       "      <td>05 Oct 05</td>\n",
       "      <td>(1.3255407, 103.749825)</td>\n",
       "    </tr>\n",
       "    <tr>\n",
       "      <th>13</th>\n",
       "      <td>7.0</td>\n",
       "      <td>iQuest@IBP</td>\n",
       "      <td>18.6</td>\n",
       "      <td>–</td>\n",
       "      <td>–</td>\n",
       "      <td>–</td>\n",
       "      <td>27 International Business Park</td>\n",
       "      <td>–</td>\n",
       "      <td>–</td>\n",
       "      <td>12 Jan 07</td>\n",
       "      <td>(1.3258126, 103.7470642)</td>\n",
       "    </tr>\n",
       "    <tr>\n",
       "      <th>14</th>\n",
       "      <td>8.0</td>\n",
       "      <td>Acer Building</td>\n",
       "      <td>75.0</td>\n",
       "      <td>79.1</td>\n",
       "      <td>29,185</td>\n",
       "      <td>22,553</td>\n",
       "      <td>29 International Business Park</td>\n",
       "      <td>3.2</td>\n",
       "      <td>40.3%</td>\n",
       "      <td>19 Mar 08</td>\n",
       "      <td>(1.327022, 103.7460233)</td>\n",
       "    </tr>\n",
       "    <tr>\n",
       "      <th>15</th>\n",
       "      <td>9.0</td>\n",
       "      <td>31 International Business Park</td>\n",
       "      <td>246.8</td>\n",
       "      <td>206.1</td>\n",
       "      <td>61,720</td>\n",
       "      <td>48,968</td>\n",
       "      <td>31 International Business Park</td>\n",
       "      <td>11.2</td>\n",
       "      <td>51.7%</td>\n",
       "      <td>26 Jun 08</td>\n",
       "      <td>(1.3287102, 103.7461134)</td>\n",
       "    </tr>\n",
       "    <tr>\n",
       "      <th>16</th>\n",
       "      <td>10.0</td>\n",
       "      <td>Nordic European Centre</td>\n",
       "      <td>121.6</td>\n",
       "      <td>121.1</td>\n",
       "      <td>28,378</td>\n",
       "      <td>21,546</td>\n",
       "      <td>3 International Business Park</td>\n",
       "      <td>8.9</td>\n",
       "      <td>75.1%</td>\n",
       "      <td>08 Jul 11</td>\n",
       "      <td>(1.3273051, 103.7485578)</td>\n",
       "    </tr>\n",
       "    <tr>\n",
       "      <th>19</th>\n",
       "      <td>11.0</td>\n",
       "      <td>17 Changi Business Park Central 1</td>\n",
       "      <td>32.8</td>\n",
       "      <td>62.4</td>\n",
       "      <td>18,123</td>\n",
       "      <td>14,399</td>\n",
       "      <td>17 Changi Business Park Central 1</td>\n",
       "      <td>5.0</td>\n",
       "      <td>53.2%</td>\n",
       "      <td>19 Nov 02</td>\n",
       "      <td>(1.3371858, 103.9656142)</td>\n",
       "    </tr>\n",
       "    <tr>\n",
       "      <th>21</th>\n",
       "      <td>12.0</td>\n",
       "      <td>1 Changi Business Park Avenue 1</td>\n",
       "      <td>18.0</td>\n",
       "      <td>57.2</td>\n",
       "      <td>11,555</td>\n",
       "      <td>9,150</td>\n",
       "      <td>1 Changi Business Park Avenue 1</td>\n",
       "      <td>5.5</td>\n",
       "      <td>94.0%</td>\n",
       "      <td>30 Oct 03</td>\n",
       "      <td>(1.3366252, 103.9636648)</td>\n",
       "    </tr>\n",
       "    <tr>\n",
       "      <th>22</th>\n",
       "      <td>13.0</td>\n",
       "      <td>Hansapoint</td>\n",
       "      <td>26.1</td>\n",
       "      <td>112.7</td>\n",
       "      <td>19,448</td>\n",
       "      <td>16,395</td>\n",
       "      <td>10 Changi Business Park Central 2</td>\n",
       "      <td>9.0</td>\n",
       "      <td>92.7%</td>\n",
       "      <td>22 Jan 08</td>\n",
       "      <td>(1.3357172, 103.9665208)</td>\n",
       "    </tr>\n",
       "    <tr>\n",
       "      <th>23</th>\n",
       "      <td>14.0</td>\n",
       "      <td>1, 3 &amp; 5 Changi Business Park Crescent</td>\n",
       "      <td>200.9</td>\n",
       "      <td>337.8</td>\n",
       "      <td>74,660</td>\n",
       "      <td>62,950</td>\n",
       "      <td>1, 3 &amp; 5 Changi Business Park Crescent</td>\n",
       "      <td>25.5</td>\n",
       "      <td>86.8%</td>\n",
       "      <td>16 Feb 09</td>\n",
       "      <td>(1.333806, 103.9661776)</td>\n",
       "    </tr>\n",
       "    <tr>\n",
       "      <th>26</th>\n",
       "      <td>15.0</td>\n",
       "      <td>DBS Asia Hub</td>\n",
       "      <td>137.8</td>\n",
       "      <td>206.0</td>\n",
       "      <td>45,857</td>\n",
       "      <td>38,296</td>\n",
       "      <td>2 &amp; 2A Changi Business Park Crescent</td>\n",
       "      <td>15.5</td>\n",
       "      <td>100.0%</td>\n",
       "      <td>31 Mar 10</td>\n",
       "      <td>(1.3327285, 103.9646169)</td>\n",
       "    </tr>\n",
       "    <tr>\n",
       "      <th>28</th>\n",
       "      <td>16.0</td>\n",
       "      <td>3 Changi Business Park Vista</td>\n",
       "      <td>80.0</td>\n",
       "      <td>70.7</td>\n",
       "      <td>19,225</td>\n",
       "      <td>15,095</td>\n",
       "      <td>3 Changi Business Park Vista</td>\n",
       "      <td>6.4</td>\n",
       "      <td>78.2%</td>\n",
       "      <td>08 Dec 11</td>\n",
       "      <td>(1.336811, 103.9671555)</td>\n",
       "    </tr>\n",
       "    <tr>\n",
       "      <th>29</th>\n",
       "      <td>17.0</td>\n",
       "      <td>ONE@Changi City</td>\n",
       "      <td>420.0</td>\n",
       "      <td>502.4</td>\n",
       "      <td>71,158</td>\n",
       "      <td>61,427</td>\n",
       "      <td>1 Changi Business Park Central 1</td>\n",
       "      <td>32.5</td>\n",
       "      <td>91.8%</td>\n",
       "      <td>01 Mar 16</td>\n",
       "      <td>(1.3335454, 103.9625317)</td>\n",
       "    </tr>\n",
       "    <tr>\n",
       "      <th>32</th>\n",
       "      <td>18.0</td>\n",
       "      <td>The Rutherford &amp; Oasis</td>\n",
       "      <td>51.5</td>\n",
       "      <td>100.0</td>\n",
       "      <td>27,217</td>\n",
       "      <td>18,815</td>\n",
       "      <td>87/89 Science Park Drive</td>\n",
       "      <td>5.8</td>\n",
       "      <td>67.3%</td>\n",
       "      <td>26 Mar 08</td>\n",
       "      <td>(1.2878492, 103.7903839)</td>\n",
       "    </tr>\n",
       "    <tr>\n",
       "      <th>33</th>\n",
       "      <td>19.0</td>\n",
       "      <td>Cintech I</td>\n",
       "      <td>47.1</td>\n",
       "      <td>58.6</td>\n",
       "      <td>14,943</td>\n",
       "      <td>10,546</td>\n",
       "      <td>73 Science Park Drive</td>\n",
       "      <td>4.2</td>\n",
       "      <td>77.3%</td>\n",
       "      <td>29 Mar 12</td>\n",
       "      <td>(1.2906344, 103.7892973)</td>\n",
       "    </tr>\n",
       "    <tr>\n",
       "      <th>34</th>\n",
       "      <td>20.0</td>\n",
       "      <td>Cintech II</td>\n",
       "      <td>35.3</td>\n",
       "      <td>49.0</td>\n",
       "      <td>13,436</td>\n",
       "      <td>10,155</td>\n",
       "      <td>75 Science Park Drive</td>\n",
       "      <td>4.4</td>\n",
       "      <td>100.0%</td>\n",
       "      <td>29 Mar 12</td>\n",
       "      <td>(1.2903005, 103.7901575)</td>\n",
       "    </tr>\n",
       "    <tr>\n",
       "      <th>35</th>\n",
       "      <td>21.0</td>\n",
       "      <td>Cintech III &amp; IV</td>\n",
       "      <td>100.7</td>\n",
       "      <td>125.0</td>\n",
       "      <td>25,622</td>\n",
       "      <td>18,483</td>\n",
       "      <td>77 &amp; 79 Science Park Drive</td>\n",
       "      <td>8.6</td>\n",
       "      <td>70.1%</td>\n",
       "      <td>29 Mar 12</td>\n",
       "      <td>(48.841082, 2.999366)</td>\n",
       "    </tr>\n",
       "    <tr>\n",
       "      <th>36</th>\n",
       "      <td>22.0</td>\n",
       "      <td>12, 14 &amp; 16 Science Park Drive</td>\n",
       "      <td>420.0</td>\n",
       "      <td>464.0</td>\n",
       "      <td>78,871</td>\n",
       "      <td>78,871</td>\n",
       "      <td>12, 14 &amp; 16 Science Park Drive</td>\n",
       "      <td>32.6</td>\n",
       "      <td>100.0%</td>\n",
       "      <td>16 Feb 17</td>\n",
       "      <td>(12.0077707, 13.9987558)</td>\n",
       "    </tr>\n",
       "    <tr>\n",
       "      <th>39</th>\n",
       "      <td>23.0</td>\n",
       "      <td>The Alpha</td>\n",
       "      <td>52.3</td>\n",
       "      <td>90.0</td>\n",
       "      <td>29,126</td>\n",
       "      <td>21,109</td>\n",
       "      <td>10 Science Park Road</td>\n",
       "      <td>6.6</td>\n",
       "      <td>74.0%</td>\n",
       "      <td>19 Nov 02</td>\n",
       "      <td>(1.288347, 103.7796998)</td>\n",
       "    </tr>\n",
       "    <tr>\n",
       "      <th>40</th>\n",
       "      <td>24.0</td>\n",
       "      <td>The Aries, Sparkle &amp; Gemini</td>\n",
       "      <td>129.2</td>\n",
       "      <td>214.0</td>\n",
       "      <td>49,868</td>\n",
       "      <td>36,863</td>\n",
       "      <td>41, 45 &amp; 51 Science Park Road</td>\n",
       "      <td>17.2</td>\n",
       "      <td>92.9%</td>\n",
       "      <td>19 Nov 02</td>\n",
       "      <td>(41.0197612, 45.0324685)</td>\n",
       "    </tr>\n",
       "    <tr>\n",
       "      <th>41</th>\n",
       "      <td>25.0</td>\n",
       "      <td>The Capricorn</td>\n",
       "      <td>71.8</td>\n",
       "      <td>123.0</td>\n",
       "      <td>28,601</td>\n",
       "      <td>20,543</td>\n",
       "      <td>1 Science Park Road</td>\n",
       "      <td>8.8</td>\n",
       "      <td>85.7%</td>\n",
       "      <td>19 Nov 02</td>\n",
       "      <td>(1.2896695, 103.7786133)</td>\n",
       "    </tr>\n",
       "    <tr>\n",
       "      <th>42</th>\n",
       "      <td>26.0</td>\n",
       "      <td>The Galen</td>\n",
       "      <td>126.0</td>\n",
       "      <td>150.0</td>\n",
       "      <td>30,632</td>\n",
       "      <td>22,310</td>\n",
       "      <td>61 Science Park Road</td>\n",
       "      <td>13.1</td>\n",
       "      <td>93.7%</td>\n",
       "      <td>25 Mar 13</td>\n",
       "      <td>(1.2865678, 103.7840457)</td>\n",
       "    </tr>\n",
       "    <tr>\n",
       "      <th>43</th>\n",
       "      <td>27.0</td>\n",
       "      <td>The Kendall</td>\n",
       "      <td>112.0</td>\n",
       "      <td>134.0</td>\n",
       "      <td>20,190</td>\n",
       "      <td>16,985</td>\n",
       "      <td>50 Science Park Road</td>\n",
       "      <td>11.7</td>\n",
       "      <td>89.5%</td>\n",
       "      <td>30 Mar 15</td>\n",
       "      <td>(1.2860187, 103.7835494)</td>\n",
       "    </tr>\n",
       "    <tr>\n",
       "      <th>44</th>\n",
       "      <td>28.0</td>\n",
       "      <td>FM Global Centre</td>\n",
       "      <td>91.0</td>\n",
       "      <td>98.3</td>\n",
       "      <td>11,613</td>\n",
       "      <td>11,613</td>\n",
       "      <td>288 Pasir Panjang Road</td>\n",
       "      <td>5.5</td>\n",
       "      <td>100.0%</td>\n",
       "      <td>11 Dec 19</td>\n",
       "      <td>(1.2860763, 103.7805616)</td>\n",
       "    </tr>\n",
       "  </tbody>\n",
       "</table>\n",
       "</div>"
      ],
      "text/plain": [
       "     num                                property development_cost  \\\n",
       "5    1.0                        Neuros & Immunos            125.6   \n",
       "6    2.0                        Nexus @one-north            181.3   \n",
       "7    3.0                                 Nucleos            289.0   \n",
       "8    4.0                                 Galaxis            697.5   \n",
       "9    5.0                       Grab Headquarters            184.6   \n",
       "12   6.0                               Techquest              7.5   \n",
       "13   7.0                              iQuest@IBP             18.6   \n",
       "14   8.0                           Acer Building             75.0   \n",
       "15   9.0          31 International Business Park            246.8   \n",
       "16  10.0                  Nordic European Centre            121.6   \n",
       "19  11.0       17 Changi Business Park Central 1             32.8   \n",
       "21  12.0         1 Changi Business Park Avenue 1             18.0   \n",
       "22  13.0                              Hansapoint             26.1   \n",
       "23  14.0  1, 3 & 5 Changi Business Park Crescent            200.9   \n",
       "26  15.0                            DBS Asia Hub            137.8   \n",
       "28  16.0            3 Changi Business Park Vista             80.0   \n",
       "29  17.0                         ONE@Changi City            420.0   \n",
       "32  18.0                  The Rutherford & Oasis             51.5   \n",
       "33  19.0                               Cintech I             47.1   \n",
       "34  20.0                              Cintech II             35.3   \n",
       "35  21.0                        Cintech III & IV            100.7   \n",
       "36  22.0          12, 14 & 16 Science Park Drive            420.0   \n",
       "39  23.0                               The Alpha             52.3   \n",
       "40  24.0             The Aries, Sparkle & Gemini            129.2   \n",
       "41  25.0                           The Capricorn             71.8   \n",
       "42  26.0                               The Galen            126.0   \n",
       "43  27.0                             The Kendall            112.0   \n",
       "44  28.0                        FM Global Centre             91.0   \n",
       "\n",
       "   valuations_(SGD:Mil) gfa_(Sqm) nla_(Sqm)  \\\n",
       "5                 143.0    36,931    26,035   \n",
       "6                 202.8    25,511    20,669   \n",
       "7                 346.1    46,174    37,365   \n",
       "8                 733.6    68,835    60,709   \n",
       "9                 191.5    42,290    42,290   \n",
       "12                 24.9     9,079     9,079   \n",
       "13                    –         –         –   \n",
       "14                 79.1    29,185    22,553   \n",
       "15                206.1    61,720    48,968   \n",
       "16                121.1    28,378    21,546   \n",
       "19                 62.4    18,123    14,399   \n",
       "21                 57.2    11,555     9,150   \n",
       "22                112.7    19,448    16,395   \n",
       "23                337.8    74,660    62,950   \n",
       "26                206.0    45,857    38,296   \n",
       "28                 70.7    19,225    15,095   \n",
       "29                502.4    71,158    61,427   \n",
       "32                100.0    27,217    18,815   \n",
       "33                 58.6    14,943    10,546   \n",
       "34                 49.0    13,436    10,155   \n",
       "35                125.0    25,622    18,483   \n",
       "36                464.0    78,871    78,871   \n",
       "39                 90.0    29,126    21,109   \n",
       "40                214.0    49,868    36,863   \n",
       "41                123.0    28,601    20,543   \n",
       "42                150.0    30,632    22,310   \n",
       "43                134.0    20,190    16,985   \n",
       "44                 98.3    11,613    11,613   \n",
       "\n",
       "                                   address gross_revenue_(SGD:Mil)  \\\n",
       "5                    8/8A Biomedical Grove                    21.0   \n",
       "6                  1 & 3 Fusionopolis Link                    15.0   \n",
       "7                         21 Biopolis Road                    30.6   \n",
       "8                 1 & 3 Fusionopolis Place                    25.7   \n",
       "9                        1 & 3 Media Close                     4.6   \n",
       "12           7 International Business Park                     2.8   \n",
       "13          27 International Business Park                       –   \n",
       "14          29 International Business Park                     3.2   \n",
       "15          31 International Business Park                    11.2   \n",
       "16           3 International Business Park                     8.9   \n",
       "19       17 Changi Business Park Central 1                     5.0   \n",
       "21         1 Changi Business Park Avenue 1                     5.5   \n",
       "22       10 Changi Business Park Central 2                     9.0   \n",
       "23  1, 3 & 5 Changi Business Park Crescent                    25.5   \n",
       "26    2 & 2A Changi Business Park Crescent                    15.5   \n",
       "28            3 Changi Business Park Vista                     6.4   \n",
       "29        1 Changi Business Park Central 1                    32.5   \n",
       "32                87/89 Science Park Drive                     5.8   \n",
       "33                   73 Science Park Drive                     4.2   \n",
       "34                   75 Science Park Drive                     4.4   \n",
       "35              77 & 79 Science Park Drive                     8.6   \n",
       "36          12, 14 & 16 Science Park Drive                    32.6   \n",
       "39                    10 Science Park Road                     6.6   \n",
       "40           41, 45 & 51 Science Park Road                    17.2   \n",
       "41                     1 Science Park Road                     8.8   \n",
       "42                    61 Science Park Road                    13.1   \n",
       "43                    50 Science Park Road                    11.7   \n",
       "44                  288 Pasir Panjang Road                     5.5   \n",
       "\n",
       "   occupancy_rate completion_date                   lat_lng  \n",
       "5           98.4%       31 Mar 11  (1.3020901, 103.7927811)  \n",
       "6           93.4%       04 Sep 13  (1.2988017, 103.7899878)  \n",
       "7           98.4%       11 Dec 19   (1.301487, 103.7921404)  \n",
       "8           97.0%       30 Jun 21  (1.2998645, 103.7883994)  \n",
       "9          100.0%       30 Jul 21  (1.2918178, 103.7930462)  \n",
       "12         100.0%       05 Oct 05   (1.3255407, 103.749825)  \n",
       "13              –       12 Jan 07  (1.3258126, 103.7470642)  \n",
       "14          40.3%       19 Mar 08   (1.327022, 103.7460233)  \n",
       "15          51.7%       26 Jun 08  (1.3287102, 103.7461134)  \n",
       "16          75.1%       08 Jul 11  (1.3273051, 103.7485578)  \n",
       "19          53.2%       19 Nov 02  (1.3371858, 103.9656142)  \n",
       "21          94.0%       30 Oct 03  (1.3366252, 103.9636648)  \n",
       "22          92.7%       22 Jan 08  (1.3357172, 103.9665208)  \n",
       "23          86.8%       16 Feb 09   (1.333806, 103.9661776)  \n",
       "26         100.0%       31 Mar 10  (1.3327285, 103.9646169)  \n",
       "28          78.2%       08 Dec 11   (1.336811, 103.9671555)  \n",
       "29          91.8%       01 Mar 16  (1.3335454, 103.9625317)  \n",
       "32          67.3%       26 Mar 08  (1.2878492, 103.7903839)  \n",
       "33          77.3%       29 Mar 12  (1.2906344, 103.7892973)  \n",
       "34         100.0%       29 Mar 12  (1.2903005, 103.7901575)  \n",
       "35          70.1%       29 Mar 12     (48.841082, 2.999366)  \n",
       "36         100.0%       16 Feb 17  (12.0077707, 13.9987558)  \n",
       "39          74.0%       19 Nov 02   (1.288347, 103.7796998)  \n",
       "40          92.9%       19 Nov 02  (41.0197612, 45.0324685)  \n",
       "41          85.7%       19 Nov 02  (1.2896695, 103.7786133)  \n",
       "42          93.7%       25 Mar 13  (1.2865678, 103.7840457)  \n",
       "43          89.5%       30 Mar 15  (1.2860187, 103.7835494)  \n",
       "44         100.0%       11 Dec 19  (1.2860763, 103.7805616)  "
      ]
     },
     "execution_count": 276,
     "metadata": {},
     "output_type": "execute_result"
    }
   ],
   "source": [
    "df"
   ]
  },
  {
   "cell_type": "code",
   "execution_count": 246,
   "metadata": {},
   "outputs": [
    {
     "data": {
      "text/html": [
       "<div>\n",
       "<style scoped>\n",
       "    .dataframe tbody tr th:only-of-type {\n",
       "        vertical-align: middle;\n",
       "    }\n",
       "\n",
       "    .dataframe tbody tr th {\n",
       "        vertical-align: top;\n",
       "    }\n",
       "\n",
       "    .dataframe thead th {\n",
       "        text-align: right;\n",
       "    }\n",
       "</style>\n",
       "<table border=\"1\" class=\"dataframe\">\n",
       "  <thead>\n",
       "    <tr style=\"text-align: right;\">\n",
       "      <th></th>\n",
       "      <th>num</th>\n",
       "      <th>property</th>\n",
       "      <th>development_cost</th>\n",
       "      <th>valuations_(SGD:Mil)</th>\n",
       "      <th>gfa_(Sqm)</th>\n",
       "      <th>nla_(Sqm)</th>\n",
       "      <th>address</th>\n",
       "      <th>gross_revenue_(SGD:Mil)</th>\n",
       "      <th>occupancy_rate</th>\n",
       "      <th>completion_date</th>\n",
       "      <th>lat_lng</th>\n",
       "    </tr>\n",
       "  </thead>\n",
       "  <tbody>\n",
       "    <tr>\n",
       "      <th>5</th>\n",
       "      <td>1.0</td>\n",
       "      <td>Neuros &amp; Immunos</td>\n",
       "      <td>125.6</td>\n",
       "      <td>143.0</td>\n",
       "      <td>36,931</td>\n",
       "      <td>26,035</td>\n",
       "      <td>8/8A Biomedical Grove</td>\n",
       "      <td>21.0</td>\n",
       "      <td>98.4%</td>\n",
       "      <td>31 Mar 11</td>\n",
       "      <td>(1.3020901, 103.7927811)</td>\n",
       "    </tr>\n",
       "    <tr>\n",
       "      <th>6</th>\n",
       "      <td>2.0</td>\n",
       "      <td>Nexus @one-north</td>\n",
       "      <td>181.3</td>\n",
       "      <td>202.8</td>\n",
       "      <td>25,511</td>\n",
       "      <td>20,669</td>\n",
       "      <td>1 &amp; 3 Fusionopolis Link</td>\n",
       "      <td>15.0</td>\n",
       "      <td>93.4%</td>\n",
       "      <td>04 Sep 13</td>\n",
       "      <td>(1.2988017, 103.7899878)</td>\n",
       "    </tr>\n",
       "    <tr>\n",
       "      <th>7</th>\n",
       "      <td>3.0</td>\n",
       "      <td>Nucleos</td>\n",
       "      <td>289.0</td>\n",
       "      <td>346.1</td>\n",
       "      <td>46,174</td>\n",
       "      <td>37,365</td>\n",
       "      <td>21 Biopolis Road</td>\n",
       "      <td>30.6</td>\n",
       "      <td>98.4%</td>\n",
       "      <td>11 Dec 19</td>\n",
       "      <td>(1.301487, 103.7921404)</td>\n",
       "    </tr>\n",
       "    <tr>\n",
       "      <th>8</th>\n",
       "      <td>4.0</td>\n",
       "      <td>Galaxis</td>\n",
       "      <td>697.5</td>\n",
       "      <td>733.6</td>\n",
       "      <td>68,835</td>\n",
       "      <td>60,709</td>\n",
       "      <td>1 &amp; 3 Fusionopolis Place</td>\n",
       "      <td>25.7</td>\n",
       "      <td>97.0%</td>\n",
       "      <td>30 Jun 21</td>\n",
       "      <td>(1.2998645, 103.7883994)</td>\n",
       "    </tr>\n",
       "    <tr>\n",
       "      <th>9</th>\n",
       "      <td>5.0</td>\n",
       "      <td>Grab Headquarters</td>\n",
       "      <td>184.6</td>\n",
       "      <td>191.5</td>\n",
       "      <td>42,290</td>\n",
       "      <td>42,290</td>\n",
       "      <td>1 &amp; 3 Media Close</td>\n",
       "      <td>4.6</td>\n",
       "      <td>100.0%</td>\n",
       "      <td>30 Jul 21</td>\n",
       "      <td>(1.2918178, 103.7930462)</td>\n",
       "    </tr>\n",
       "    <tr>\n",
       "      <th>12</th>\n",
       "      <td>6.0</td>\n",
       "      <td>Techquest</td>\n",
       "      <td>7.5</td>\n",
       "      <td>24.9</td>\n",
       "      <td>9,079</td>\n",
       "      <td>9,079</td>\n",
       "      <td>7 International Business Park</td>\n",
       "      <td>2.8</td>\n",
       "      <td>100.0%</td>\n",
       "      <td>05 Oct 05</td>\n",
       "      <td>(1.3255407, 103.749825)</td>\n",
       "    </tr>\n",
       "    <tr>\n",
       "      <th>13</th>\n",
       "      <td>7.0</td>\n",
       "      <td>iQuest@IBP</td>\n",
       "      <td>18.6</td>\n",
       "      <td>–</td>\n",
       "      <td>–</td>\n",
       "      <td>–</td>\n",
       "      <td>27 International Business Park</td>\n",
       "      <td>–</td>\n",
       "      <td>–</td>\n",
       "      <td>12 Jan 07</td>\n",
       "      <td>(1.3258126, 103.7470642)</td>\n",
       "    </tr>\n",
       "    <tr>\n",
       "      <th>14</th>\n",
       "      <td>8.0</td>\n",
       "      <td>Acer Building</td>\n",
       "      <td>75.0</td>\n",
       "      <td>79.1</td>\n",
       "      <td>29,185</td>\n",
       "      <td>22,553</td>\n",
       "      <td>29 International Business Park</td>\n",
       "      <td>3.2</td>\n",
       "      <td>40.3%</td>\n",
       "      <td>19 Mar 08</td>\n",
       "      <td>(1.327022, 103.7460233)</td>\n",
       "    </tr>\n",
       "    <tr>\n",
       "      <th>15</th>\n",
       "      <td>9.0</td>\n",
       "      <td>31 International Business Park</td>\n",
       "      <td>246.8</td>\n",
       "      <td>206.1</td>\n",
       "      <td>61,720</td>\n",
       "      <td>48,968</td>\n",
       "      <td>31 International Business Park</td>\n",
       "      <td>11.2</td>\n",
       "      <td>51.7%</td>\n",
       "      <td>26 Jun 08</td>\n",
       "      <td>(1.3287102, 103.7461134)</td>\n",
       "    </tr>\n",
       "    <tr>\n",
       "      <th>16</th>\n",
       "      <td>10.0</td>\n",
       "      <td>Nordic European Centre</td>\n",
       "      <td>121.6</td>\n",
       "      <td>121.1</td>\n",
       "      <td>28,378</td>\n",
       "      <td>21,546</td>\n",
       "      <td>3 International Business Park</td>\n",
       "      <td>8.9</td>\n",
       "      <td>75.1%</td>\n",
       "      <td>08 Jul 11</td>\n",
       "      <td>(1.3273051, 103.7485578)</td>\n",
       "    </tr>\n",
       "    <tr>\n",
       "      <th>19</th>\n",
       "      <td>11.0</td>\n",
       "      <td>17 Changi Business Park Central 1</td>\n",
       "      <td>32.8</td>\n",
       "      <td>62.4</td>\n",
       "      <td>18,123</td>\n",
       "      <td>14,399</td>\n",
       "      <td>17 Changi Business Park Central 1</td>\n",
       "      <td>5.0</td>\n",
       "      <td>53.2%</td>\n",
       "      <td>19 Nov 02</td>\n",
       "      <td>(1.3371858, 103.9656142)</td>\n",
       "    </tr>\n",
       "    <tr>\n",
       "      <th>21</th>\n",
       "      <td>12.0</td>\n",
       "      <td>1 Changi Business Park Avenue 1</td>\n",
       "      <td>18.0</td>\n",
       "      <td>57.2</td>\n",
       "      <td>11,555</td>\n",
       "      <td>9,150</td>\n",
       "      <td>1 Changi Business Park Avenue 1</td>\n",
       "      <td>5.5</td>\n",
       "      <td>94.0%</td>\n",
       "      <td>30 Oct 03</td>\n",
       "      <td>(1.3366252, 103.9636648)</td>\n",
       "    </tr>\n",
       "    <tr>\n",
       "      <th>22</th>\n",
       "      <td>13.0</td>\n",
       "      <td>Hansapoint</td>\n",
       "      <td>26.1</td>\n",
       "      <td>112.7</td>\n",
       "      <td>19,448</td>\n",
       "      <td>16,395</td>\n",
       "      <td>10 Changi Business Park Central 2</td>\n",
       "      <td>9.0</td>\n",
       "      <td>92.7%</td>\n",
       "      <td>22 Jan 08</td>\n",
       "      <td>(1.3357172, 103.9665208)</td>\n",
       "    </tr>\n",
       "    <tr>\n",
       "      <th>23</th>\n",
       "      <td>14.0</td>\n",
       "      <td>1, 3 &amp; 5 Changi Business Park Crescent</td>\n",
       "      <td>200.9</td>\n",
       "      <td>337.8</td>\n",
       "      <td>74,660</td>\n",
       "      <td>62,950</td>\n",
       "      <td>1, 3 &amp; 5 Changi Business Park Crescent</td>\n",
       "      <td>25.5</td>\n",
       "      <td>86.8%</td>\n",
       "      <td>16 Feb 09</td>\n",
       "      <td>None</td>\n",
       "    </tr>\n",
       "    <tr>\n",
       "      <th>26</th>\n",
       "      <td>15.0</td>\n",
       "      <td>DBS Asia Hub</td>\n",
       "      <td>137.8</td>\n",
       "      <td>206.0</td>\n",
       "      <td>45,857</td>\n",
       "      <td>38,296</td>\n",
       "      <td>2 &amp; 2A Changi Business Park Crescent</td>\n",
       "      <td>15.5</td>\n",
       "      <td>100.0%</td>\n",
       "      <td>31 Mar 10</td>\n",
       "      <td>(1.3327285, 103.9646169)</td>\n",
       "    </tr>\n",
       "    <tr>\n",
       "      <th>28</th>\n",
       "      <td>16.0</td>\n",
       "      <td>3 Changi Business Park Vista</td>\n",
       "      <td>80.0</td>\n",
       "      <td>70.7</td>\n",
       "      <td>19,225</td>\n",
       "      <td>15,095</td>\n",
       "      <td>3 Changi Business Park Vista</td>\n",
       "      <td>6.4</td>\n",
       "      <td>78.2%</td>\n",
       "      <td>08 Dec 11</td>\n",
       "      <td>(1.336811, 103.9671555)</td>\n",
       "    </tr>\n",
       "    <tr>\n",
       "      <th>29</th>\n",
       "      <td>17.0</td>\n",
       "      <td>ONE@Changi City</td>\n",
       "      <td>420.0</td>\n",
       "      <td>502.4</td>\n",
       "      <td>71,158</td>\n",
       "      <td>61,427</td>\n",
       "      <td>1 Changi Business Park Central 1</td>\n",
       "      <td>32.5</td>\n",
       "      <td>91.8%</td>\n",
       "      <td>01 Mar 16</td>\n",
       "      <td>(1.3335454, 103.9625317)</td>\n",
       "    </tr>\n",
       "    <tr>\n",
       "      <th>32</th>\n",
       "      <td>18.0</td>\n",
       "      <td>The Rutherford &amp; Oasis</td>\n",
       "      <td>51.5</td>\n",
       "      <td>100.0</td>\n",
       "      <td>27,217</td>\n",
       "      <td>18,815</td>\n",
       "      <td>87/89 Science Park Drive</td>\n",
       "      <td>5.8</td>\n",
       "      <td>67.3%</td>\n",
       "      <td>26 Mar 08</td>\n",
       "      <td>(1.2878492, 103.7903839)</td>\n",
       "    </tr>\n",
       "    <tr>\n",
       "      <th>33</th>\n",
       "      <td>19.0</td>\n",
       "      <td>Cintech I</td>\n",
       "      <td>47.1</td>\n",
       "      <td>58.6</td>\n",
       "      <td>14,943</td>\n",
       "      <td>10,546</td>\n",
       "      <td>73 Science Park Drive</td>\n",
       "      <td>4.2</td>\n",
       "      <td>77.3%</td>\n",
       "      <td>29 Mar 12</td>\n",
       "      <td>(1.2906344, 103.7892973)</td>\n",
       "    </tr>\n",
       "    <tr>\n",
       "      <th>34</th>\n",
       "      <td>20.0</td>\n",
       "      <td>Cintech II</td>\n",
       "      <td>35.3</td>\n",
       "      <td>49.0</td>\n",
       "      <td>13,436</td>\n",
       "      <td>10,155</td>\n",
       "      <td>75 Science Park Drive</td>\n",
       "      <td>4.4</td>\n",
       "      <td>100.0%</td>\n",
       "      <td>29 Mar 12</td>\n",
       "      <td>(1.2903005, 103.7901575)</td>\n",
       "    </tr>\n",
       "    <tr>\n",
       "      <th>35</th>\n",
       "      <td>21.0</td>\n",
       "      <td>Cintech III &amp; IV</td>\n",
       "      <td>100.7</td>\n",
       "      <td>125.0</td>\n",
       "      <td>25,622</td>\n",
       "      <td>18,483</td>\n",
       "      <td>77 &amp; 79 Science Park Drive</td>\n",
       "      <td>8.6</td>\n",
       "      <td>70.1%</td>\n",
       "      <td>29 Mar 12</td>\n",
       "      <td>(48.841082, 2.999366)</td>\n",
       "    </tr>\n",
       "    <tr>\n",
       "      <th>36</th>\n",
       "      <td>22.0</td>\n",
       "      <td>12, 14 &amp; 16 Science Park Drive</td>\n",
       "      <td>420.0</td>\n",
       "      <td>464.0</td>\n",
       "      <td>78,871</td>\n",
       "      <td>78,871</td>\n",
       "      <td>12, 14 &amp; 16 Science Park Drive</td>\n",
       "      <td>32.6</td>\n",
       "      <td>100.0%</td>\n",
       "      <td>16 Feb 17</td>\n",
       "      <td>(12.0077707, 13.9987558)</td>\n",
       "    </tr>\n",
       "    <tr>\n",
       "      <th>39</th>\n",
       "      <td>23.0</td>\n",
       "      <td>The Alpha</td>\n",
       "      <td>52.3</td>\n",
       "      <td>90.0</td>\n",
       "      <td>29,126</td>\n",
       "      <td>21,109</td>\n",
       "      <td>10 Science Park Road</td>\n",
       "      <td>6.6</td>\n",
       "      <td>74.0%</td>\n",
       "      <td>19 Nov 02</td>\n",
       "      <td>(1.288347, 103.7796998)</td>\n",
       "    </tr>\n",
       "    <tr>\n",
       "      <th>40</th>\n",
       "      <td>24.0</td>\n",
       "      <td>The Aries, Sparkle &amp; Gemini</td>\n",
       "      <td>129.2</td>\n",
       "      <td>214.0</td>\n",
       "      <td>49,868</td>\n",
       "      <td>36,863</td>\n",
       "      <td>41, 45 &amp; 51 Science Park Road</td>\n",
       "      <td>17.2</td>\n",
       "      <td>92.9%</td>\n",
       "      <td>19 Nov 02</td>\n",
       "      <td>(41.0197612, 45.0324685)</td>\n",
       "    </tr>\n",
       "    <tr>\n",
       "      <th>41</th>\n",
       "      <td>25.0</td>\n",
       "      <td>The Capricorn</td>\n",
       "      <td>71.8</td>\n",
       "      <td>123.0</td>\n",
       "      <td>28,601</td>\n",
       "      <td>20,543</td>\n",
       "      <td>1 Science Park Road</td>\n",
       "      <td>8.8</td>\n",
       "      <td>85.7%</td>\n",
       "      <td>19 Nov 02</td>\n",
       "      <td>(1.2896695, 103.7786133)</td>\n",
       "    </tr>\n",
       "    <tr>\n",
       "      <th>42</th>\n",
       "      <td>26.0</td>\n",
       "      <td>The Galen</td>\n",
       "      <td>126.0</td>\n",
       "      <td>150.0</td>\n",
       "      <td>30,632</td>\n",
       "      <td>22,310</td>\n",
       "      <td>61 Science Park Road</td>\n",
       "      <td>13.1</td>\n",
       "      <td>93.7%</td>\n",
       "      <td>25 Mar 13</td>\n",
       "      <td>(1.2865678, 103.7840457)</td>\n",
       "    </tr>\n",
       "    <tr>\n",
       "      <th>43</th>\n",
       "      <td>27.0</td>\n",
       "      <td>The Kendall</td>\n",
       "      <td>112.0</td>\n",
       "      <td>134.0</td>\n",
       "      <td>20,190</td>\n",
       "      <td>16,985</td>\n",
       "      <td>50 Science Park Road</td>\n",
       "      <td>11.7</td>\n",
       "      <td>89.5%</td>\n",
       "      <td>30 Mar 15</td>\n",
       "      <td>(1.2860187, 103.7835494)</td>\n",
       "    </tr>\n",
       "    <tr>\n",
       "      <th>44</th>\n",
       "      <td>28.0</td>\n",
       "      <td>FM Global Centre</td>\n",
       "      <td>91.0</td>\n",
       "      <td>98.3</td>\n",
       "      <td>11,613</td>\n",
       "      <td>11,613</td>\n",
       "      <td>288 Pasir Panjang Road</td>\n",
       "      <td>5.5</td>\n",
       "      <td>100.0%</td>\n",
       "      <td>11 Dec 19</td>\n",
       "      <td>(1.2860763, 103.7805616)</td>\n",
       "    </tr>\n",
       "  </tbody>\n",
       "</table>\n",
       "</div>"
      ],
      "text/plain": [
       "     num                                property development_cost  \\\n",
       "5    1.0                        Neuros & Immunos            125.6   \n",
       "6    2.0                        Nexus @one-north            181.3   \n",
       "7    3.0                                 Nucleos            289.0   \n",
       "8    4.0                                 Galaxis            697.5   \n",
       "9    5.0                       Grab Headquarters            184.6   \n",
       "12   6.0                               Techquest              7.5   \n",
       "13   7.0                              iQuest@IBP             18.6   \n",
       "14   8.0                           Acer Building             75.0   \n",
       "15   9.0          31 International Business Park            246.8   \n",
       "16  10.0                  Nordic European Centre            121.6   \n",
       "19  11.0       17 Changi Business Park Central 1             32.8   \n",
       "21  12.0         1 Changi Business Park Avenue 1             18.0   \n",
       "22  13.0                              Hansapoint             26.1   \n",
       "23  14.0  1, 3 & 5 Changi Business Park Crescent            200.9   \n",
       "26  15.0                            DBS Asia Hub            137.8   \n",
       "28  16.0            3 Changi Business Park Vista             80.0   \n",
       "29  17.0                         ONE@Changi City            420.0   \n",
       "32  18.0                  The Rutherford & Oasis             51.5   \n",
       "33  19.0                               Cintech I             47.1   \n",
       "34  20.0                              Cintech II             35.3   \n",
       "35  21.0                        Cintech III & IV            100.7   \n",
       "36  22.0          12, 14 & 16 Science Park Drive            420.0   \n",
       "39  23.0                               The Alpha             52.3   \n",
       "40  24.0             The Aries, Sparkle & Gemini            129.2   \n",
       "41  25.0                           The Capricorn             71.8   \n",
       "42  26.0                               The Galen            126.0   \n",
       "43  27.0                             The Kendall            112.0   \n",
       "44  28.0                        FM Global Centre             91.0   \n",
       "\n",
       "   valuations_(SGD:Mil) gfa_(Sqm) nla_(Sqm)  \\\n",
       "5                 143.0    36,931    26,035   \n",
       "6                 202.8    25,511    20,669   \n",
       "7                 346.1    46,174    37,365   \n",
       "8                 733.6    68,835    60,709   \n",
       "9                 191.5    42,290    42,290   \n",
       "12                 24.9     9,079     9,079   \n",
       "13                    –         –         –   \n",
       "14                 79.1    29,185    22,553   \n",
       "15                206.1    61,720    48,968   \n",
       "16                121.1    28,378    21,546   \n",
       "19                 62.4    18,123    14,399   \n",
       "21                 57.2    11,555     9,150   \n",
       "22                112.7    19,448    16,395   \n",
       "23                337.8    74,660    62,950   \n",
       "26                206.0    45,857    38,296   \n",
       "28                 70.7    19,225    15,095   \n",
       "29                502.4    71,158    61,427   \n",
       "32                100.0    27,217    18,815   \n",
       "33                 58.6    14,943    10,546   \n",
       "34                 49.0    13,436    10,155   \n",
       "35                125.0    25,622    18,483   \n",
       "36                464.0    78,871    78,871   \n",
       "39                 90.0    29,126    21,109   \n",
       "40                214.0    49,868    36,863   \n",
       "41                123.0    28,601    20,543   \n",
       "42                150.0    30,632    22,310   \n",
       "43                134.0    20,190    16,985   \n",
       "44                 98.3    11,613    11,613   \n",
       "\n",
       "                                   address gross_revenue_(SGD:Mil)  \\\n",
       "5                    8/8A Biomedical Grove                    21.0   \n",
       "6                  1 & 3 Fusionopolis Link                    15.0   \n",
       "7                         21 Biopolis Road                    30.6   \n",
       "8                 1 & 3 Fusionopolis Place                    25.7   \n",
       "9                        1 & 3 Media Close                     4.6   \n",
       "12           7 International Business Park                     2.8   \n",
       "13          27 International Business Park                       –   \n",
       "14          29 International Business Park                     3.2   \n",
       "15          31 International Business Park                    11.2   \n",
       "16           3 International Business Park                     8.9   \n",
       "19       17 Changi Business Park Central 1                     5.0   \n",
       "21         1 Changi Business Park Avenue 1                     5.5   \n",
       "22       10 Changi Business Park Central 2                     9.0   \n",
       "23  1, 3 & 5 Changi Business Park Crescent                    25.5   \n",
       "26    2 & 2A Changi Business Park Crescent                    15.5   \n",
       "28            3 Changi Business Park Vista                     6.4   \n",
       "29        1 Changi Business Park Central 1                    32.5   \n",
       "32                87/89 Science Park Drive                     5.8   \n",
       "33                   73 Science Park Drive                     4.2   \n",
       "34                   75 Science Park Drive                     4.4   \n",
       "35              77 & 79 Science Park Drive                     8.6   \n",
       "36          12, 14 & 16 Science Park Drive                    32.6   \n",
       "39                    10 Science Park Road                     6.6   \n",
       "40           41, 45 & 51 Science Park Road                    17.2   \n",
       "41                     1 Science Park Road                     8.8   \n",
       "42                    61 Science Park Road                    13.1   \n",
       "43                    50 Science Park Road                    11.7   \n",
       "44                  288 Pasir Panjang Road                     5.5   \n",
       "\n",
       "   occupancy_rate completion_date                   lat_lng  \n",
       "5           98.4%       31 Mar 11  (1.3020901, 103.7927811)  \n",
       "6           93.4%       04 Sep 13  (1.2988017, 103.7899878)  \n",
       "7           98.4%       11 Dec 19   (1.301487, 103.7921404)  \n",
       "8           97.0%       30 Jun 21  (1.2998645, 103.7883994)  \n",
       "9          100.0%       30 Jul 21  (1.2918178, 103.7930462)  \n",
       "12         100.0%       05 Oct 05   (1.3255407, 103.749825)  \n",
       "13              –       12 Jan 07  (1.3258126, 103.7470642)  \n",
       "14          40.3%       19 Mar 08   (1.327022, 103.7460233)  \n",
       "15          51.7%       26 Jun 08  (1.3287102, 103.7461134)  \n",
       "16          75.1%       08 Jul 11  (1.3273051, 103.7485578)  \n",
       "19          53.2%       19 Nov 02  (1.3371858, 103.9656142)  \n",
       "21          94.0%       30 Oct 03  (1.3366252, 103.9636648)  \n",
       "22          92.7%       22 Jan 08  (1.3357172, 103.9665208)  \n",
       "23          86.8%       16 Feb 09                      None  \n",
       "26         100.0%       31 Mar 10  (1.3327285, 103.9646169)  \n",
       "28          78.2%       08 Dec 11   (1.336811, 103.9671555)  \n",
       "29          91.8%       01 Mar 16  (1.3335454, 103.9625317)  \n",
       "32          67.3%       26 Mar 08  (1.2878492, 103.7903839)  \n",
       "33          77.3%       29 Mar 12  (1.2906344, 103.7892973)  \n",
       "34         100.0%       29 Mar 12  (1.2903005, 103.7901575)  \n",
       "35          70.1%       29 Mar 12     (48.841082, 2.999366)  \n",
       "36         100.0%       16 Feb 17  (12.0077707, 13.9987558)  \n",
       "39          74.0%       19 Nov 02   (1.288347, 103.7796998)  \n",
       "40          92.9%       19 Nov 02  (41.0197612, 45.0324685)  \n",
       "41          85.7%       19 Nov 02  (1.2896695, 103.7786133)  \n",
       "42          93.7%       25 Mar 13  (1.2865678, 103.7840457)  \n",
       "43          89.5%       30 Mar 15  (1.2860187, 103.7835494)  \n",
       "44         100.0%       11 Dec 19  (1.2860763, 103.7805616)  "
      ]
     },
     "execution_count": 246,
     "metadata": {},
     "output_type": "execute_result"
    }
   ],
   "source": [
    "df.drop(columns=[\"address_cord\",\"property_cord\"])"
   ]
  },
  {
   "cell_type": "code",
   "execution_count": null,
   "metadata": {},
   "outputs": [],
   "source": []
  }
 ],
 "metadata": {
  "kernelspec": {
   "display_name": "reits-analytics",
   "language": "python",
   "name": "python3"
  },
  "language_info": {
   "codemirror_mode": {
    "name": "ipython",
    "version": 3
   },
   "file_extension": ".py",
   "mimetype": "text/x-python",
   "name": "python",
   "nbconvert_exporter": "python",
   "pygments_lexer": "ipython3",
   "version": "3.11.0"
  },
  "orig_nbformat": 4,
  "vscode": {
   "interpreter": {
    "hash": "121702762a3d63737703521d8b679d7effc53aa1b9f8a051b0fa2b4f44917936"
   }
  }
 },
 "nbformat": 4,
 "nbformat_minor": 2
}
