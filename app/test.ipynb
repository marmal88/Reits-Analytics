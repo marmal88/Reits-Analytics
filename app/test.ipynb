{
 "cells": [
  {
   "cell_type": "code",
   "execution_count": 133,
   "metadata": {},
   "outputs": [],
   "source": [
    "import os\n",
    "from dotenv import load_dotenv\n",
    "import pandas as pd\n",
    "from selenium import webdriver\n",
    "from selenium.webdriver.chrome.service import Service\n",
    "from webdriver_manager.chrome import ChromeDriverManager\n",
    "from selenium.webdriver.common.by import By\n",
    "\n",
    "\n",
    "url = \"https://www.dbs.com/in/treasures/rates-online/foreign-currency-foreign-exchange.page\"\n",
    "\n",
    "driver = webdriver.Chrome(service=Service(ChromeDriverManager().install()))\n",
    "driver.get(url)"
   ]
  },
  {
   "cell_type": "code",
   "execution_count": 134,
   "metadata": {},
   "outputs": [],
   "source": [
    "date_detail = driver.find_element(By.ID, \"mainCurrency\").text\n",
    "s = date_detail.split(' ')\n",
    "\n",
    "date = s[3]\n",
    "time = s[-1]"
   ]
  },
  {
   "cell_type": "code",
   "execution_count": 135,
   "metadata": {},
   "outputs": [
    {
     "name": "stdout",
     "output_type": "stream",
     "text": [
      "['Currency', 'Selling TT', 'Selling Cash', 'Buying TT', 'Buying Cash']\n"
     ]
    }
   ],
   "source": [
    "# Header Names\n",
    "header = driver.find_elements(By.XPATH, \"//table[@class='sc-dxgOiQ dzHkKC tbl-primary mBot-16']/thead/tr/th\")\n",
    "\n",
    "col_names = list()\n",
    "\n",
    "for head in header:\n",
    "    col_names.append(head.text)\n",
    "\n",
    "print(col_names)\n"
   ]
  },
  {
   "cell_type": "code",
   "execution_count": 136,
   "metadata": {},
   "outputs": [],
   "source": [
    "# Locators\n",
    "col = driver.find_elements(By.XPATH, \"//table[@class='sc-dxgOiQ dzHkKC tbl-primary mBot-16']/tbody/tr\")\n",
    "row = driver.find_elements(By.XPATH, \"//table[@class='sc-dxgOiQ dzHkKC tbl-primary mBot-16']/tbody/tr[1]/td\")\n",
    "\n",
    "num_row = len(row) #5\n",
    "num_col = len(col) #10\n",
    "\n",
    "results = []\n",
    "\n",
    "\n",
    "for i in range (1, num_col + 1):\n",
    "    result = []\n",
    "    for j in range (1, num_row + 1):\n",
    "        d = driver.find_element(By.XPATH, \"//table[@class='sc-dxgOiQ dzHkKC tbl-primary mBot-16']/tbody/tr[\"+str(i)+\"]/td[\"+str(j)+\"]\").text\n",
    "        result.append(d)\n",
    "    results.append(result)"
   ]
  },
  {
   "cell_type": "code",
   "execution_count": 137,
   "metadata": {},
   "outputs": [
    {
     "name": "stdout",
     "output_type": "stream",
     "text": [
      "                      Currency Selling TT Selling Cash Buying TT Buying Cash  \\\n",
      "0                    US Dollar    80.7049      80.7049   77.5400     77.5400   \n",
      "1             Singapore Dollar    58.6655      58.6655   56.0839     56.0839   \n",
      "2            Australian Dollar    56.5180      56.5180   54.0309     54.0309   \n",
      "3                  Swiss Franc    85.0901      85.0901   81.3456     81.3456   \n",
      "4                         Euro    82.7592      82.7592   79.1173     79.1173   \n",
      "5                British Pound    98.6061      98.6061   94.2667     94.2667   \n",
      "6              Canadian Dollar    63.1824      63.1824   60.4019     60.4019   \n",
      "7             Hong Kong Dollar    10.3065      10.3065    9.8529      9.8529   \n",
      "8                 Japanese Yen     0.6104       0.6104    0.5835      0.5835   \n",
      "9  United Arab Emirates Dirham    22.0264      22.0264   21.0571     21.0571   \n",
      "\n",
      "         Date     Time  \n",
      "0  01/08/2022  11:45AM  \n",
      "1  01/08/2022  11:45AM  \n",
      "2  01/08/2022  11:45AM  \n",
      "3  01/08/2022  11:45AM  \n",
      "4  01/08/2022  11:45AM  \n",
      "5  01/08/2022  11:45AM  \n",
      "6  01/08/2022  11:45AM  \n",
      "7  01/08/2022  11:45AM  \n",
      "8  01/08/2022  11:45AM  \n",
      "9  01/08/2022  11:45AM  \n"
     ]
    }
   ],
   "source": [
    "df = pd.DataFrame(data=results, columns=col_names)\n",
    "\n",
    "df[\"Date\"] = date\n",
    "df[\"Time\"] = updated\n",
    "\n",
    "print(df)"
   ]
  }
 ],
 "metadata": {
  "kernelspec": {
   "display_name": "Python 3.10.5 64-bit",
   "language": "python",
   "name": "python3"
  },
  "language_info": {
   "codemirror_mode": {
    "name": "ipython",
    "version": 3
   },
   "file_extension": ".py",
   "mimetype": "text/x-python",
   "name": "python",
   "nbconvert_exporter": "python",
   "pygments_lexer": "ipython3",
   "version": "3.10.5"
  },
  "orig_nbformat": 4,
  "vscode": {
   "interpreter": {
    "hash": "96f136320f1740a484700fdacfc527980e767ac8255c961f213d0b3541cca800"
   }
  }
 },
 "nbformat": 4,
 "nbformat_minor": 2
}
