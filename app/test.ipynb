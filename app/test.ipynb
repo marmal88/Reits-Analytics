{
 "cells": [
  {
   "cell_type": "code",
   "execution_count": 1,
   "metadata": {},
   "outputs": [],
   "source": [
    "import os\n",
    "from dotenv import load_dotenv\n",
    "import pandas as pd\n",
    "from selenium import webdriver\n",
    "from selenium.webdriver.chrome.service import Service\n",
    "from webdriver_manager.chrome import ChromeDriverManager\n",
    "from selenium.webdriver.common.by import By\n",
    "\n",
    "\n",
    "url = \"https://www.dbs.com/in/treasures/rates-online/foreign-currency-foreign-exchange.page\"\n",
    "\n",
    "driver = webdriver.Chrome(service=Service(ChromeDriverManager().install()))\n",
    "driver.get(url)"
   ]
  },
  {
   "cell_type": "code",
   "execution_count": 2,
   "metadata": {},
   "outputs": [],
   "source": [
    "date_detail = driver.find_element(By.ID, \"mainCurrency\").text\n",
    "s = date_detail.split(' ')\n",
    "\n",
    "date = s[3]\n",
    "time = s[-1]"
   ]
  },
  {
   "cell_type": "code",
   "execution_count": 3,
   "metadata": {},
   "outputs": [
    {
     "name": "stdout",
     "output_type": "stream",
     "text": [
      "['Currency', 'Selling TT', 'Selling Cash', 'Buying TT', 'Buying Cash']\n"
     ]
    }
   ],
   "source": [
    "# Header Names\n",
    "header = driver.find_elements(By.XPATH, \"//table[@class='sc-dxgOiQ dzHkKC tbl-primary mBot-16']/thead/tr/th\")\n",
    "\n",
    "col_names = list()\n",
    "\n",
    "for head in header:\n",
    "    col_names.append(head.text)\n",
    "\n",
    "print(col_names)\n"
   ]
  },
  {
   "cell_type": "code",
   "execution_count": 4,
   "metadata": {},
   "outputs": [],
   "source": [
    "# Locators\n",
    "col = driver.find_elements(By.XPATH, \"//table[@class='sc-dxgOiQ dzHkKC tbl-primary mBot-16']/tbody/tr\")\n",
    "row = driver.find_elements(By.XPATH, \"//table[@class='sc-dxgOiQ dzHkKC tbl-primary mBot-16']/tbody/tr[1]/td\")\n",
    "\n",
    "num_row = len(row) #5\n",
    "num_col = len(col) #10\n",
    "\n",
    "results = []\n",
    "\n",
    "\n",
    "for i in range (1, num_col + 1):\n",
    "    result = []\n",
    "    for j in range (1, num_row + 1):\n",
    "        d = driver.find_element(By.XPATH, \"//table[@class='sc-dxgOiQ dzHkKC tbl-primary mBot-16']/tbody/tr[\"+str(i)+\"]/td[\"+str(j)+\"]\").text\n",
    "        result.append(d)\n",
    "    results.append(result)"
   ]
  },
  {
   "cell_type": "code",
   "execution_count": 6,
   "metadata": {},
   "outputs": [
    {
     "name": "stdout",
     "output_type": "stream",
     "text": [
      "                      Currency Selling TT Selling Cash Buying TT Buying Cash  \\\n",
      "0                    US Dollar    81.2468      81.2468   78.0607     78.0607   \n",
      "1             Singapore Dollar    59.4800      59.4800   56.8625     56.8625   \n",
      "2            Australian Dollar    57.9094      57.9094   55.3610     55.3610   \n",
      "3                  Swiss Franc    86.5179      86.5179   82.7106     82.7106   \n",
      "4                         Euro    84.0371      84.0371   80.3389     80.3389   \n",
      "5                British Pound    99.3098      99.3098   94.9394     94.9394   \n",
      "6              Canadian Dollar    63.8483      63.8483   61.0385     61.0385   \n",
      "7             Hong Kong Dollar    10.3947      10.3947    9.9373      9.9373   \n",
      "8                 Japanese Yen     0.6111       0.6111    0.5842      0.5842   \n",
      "9  United Arab Emirates Dirham    22.1744      22.1744   21.1986     21.1986   \n",
      "\n",
      "         Date     Time  \n",
      "0  12/08/2022  11:45AM  \n",
      "1  12/08/2022  11:45AM  \n",
      "2  12/08/2022  11:45AM  \n",
      "3  12/08/2022  11:45AM  \n",
      "4  12/08/2022  11:45AM  \n",
      "5  12/08/2022  11:45AM  \n",
      "6  12/08/2022  11:45AM  \n",
      "7  12/08/2022  11:45AM  \n",
      "8  12/08/2022  11:45AM  \n",
      "9  12/08/2022  11:45AM  \n"
     ]
    }
   ],
   "source": [
    "df = pd.DataFrame(data=results, columns=col_names)\n",
    "\n",
    "df[\"Date\"] = date\n",
    "df[\"Time\"] = time\n",
    "\n",
    "print(df)"
   ]
  }
 ],
 "metadata": {
  "kernelspec": {
   "display_name": "Python 3.10.4 ('py-webscraper': conda)",
   "language": "python",
   "name": "python3"
  },
  "language_info": {
   "codemirror_mode": {
    "name": "ipython",
    "version": 3
   },
   "file_extension": ".py",
   "mimetype": "text/x-python",
   "name": "python",
   "nbconvert_exporter": "python",
   "pygments_lexer": "ipython3",
   "version": "3.10.4"
  },
  "orig_nbformat": 4,
  "vscode": {
   "interpreter": {
    "hash": "7b83d9b27afe8e3a559625f2d3629506cfc72488a150fef28c2bdf0ad4694d77"
   }
  }
 },
 "nbformat": 4,
 "nbformat_minor": 2
}
